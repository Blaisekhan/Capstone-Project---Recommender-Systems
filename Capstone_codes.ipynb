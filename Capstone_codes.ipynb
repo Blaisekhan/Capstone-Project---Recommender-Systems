{
  "nbformat": 4,
  "nbformat_minor": 0,
  "metadata": {
    "colab": {
      "name": "Capstone_codes.ipynb",
      "provenance": [],
      "collapsed_sections": [],
      "toc_visible": true,
      "include_colab_link": true
    },
    "kernelspec": {
      "name": "python3",
      "display_name": "Python 3"
    }
  },
  "cells": [
    {
      "cell_type": "markdown",
      "metadata": {
        "id": "view-in-github",
        "colab_type": "text"
      },
      "source": [
        "<a href=\"https://colab.research.google.com/github/Blaisekhan/Capstone-project/blob/main/Capstone_codes.ipynb\" target=\"_parent\"><img src=\"https://colab.research.google.com/assets/colab-badge.svg\" alt=\"Open In Colab\"/></a>"
      ]
    },
    {
      "cell_type": "code",
      "metadata": {
        "colab": {
          "base_uri": "https://localhost:8080/"
        },
        "id": "iazIWjySGL14",
        "outputId": "12811777-3810-4f31-ae80-e76b16ed90a4"
      },
      "source": [
        "#Importing Libraries\n",
        "import numpy as np\n",
        "import pandas as pd\n",
        "import math\n",
        "import json\n",
        "import time\n",
        "import os\n",
        "import matplotlib.pyplot as plt\n",
        "import seaborn as sns\n",
        "from sklearn.metrics.pairwise import cosine_similarity\n",
        "from sklearn.model_selection import train_test_split\n",
        "from sklearn.neighbors import NearestNeighbors\n",
        "from sklearn.externals import joblib\n",
        "import scipy.sparse\n",
        "from scipy.sparse import csr_matrix\n",
        "from scipy.sparse.linalg import svds\n",
        "from IPython.core.interactiveshell import InteractiveShell\n",
        "InteractiveShell.ast_node_interactivity = \"all\"\n",
        "import warnings; warnings.simplefilter('ignore')\n",
        "import warnings\n",
        "warnings.filterwarnings('ignore')\n",
        "%matplotlib inline\n"
      ],
      "execution_count": 1,
      "outputs": [
        {
          "output_type": "stream",
          "text": [
            "/usr/local/lib/python3.7/dist-packages/sklearn/externals/joblib/__init__.py:15: FutureWarning: sklearn.externals.joblib is deprecated in 0.21 and will be removed in 0.23. Please import this functionality directly from joblib, which can be installed with: pip install joblib. If this warning is raised when loading pickled models, you may need to re-serialize those models with scikit-learn 0.21+.\n",
            "  warnings.warn(msg, category=FutureWarning)\n"
          ],
          "name": "stderr"
        }
      ]
    },
    {
      "cell_type": "code",
      "metadata": {
        "colab": {
          "base_uri": "https://localhost:8080/"
        },
        "id": "PRwXPuuJe-v4",
        "outputId": "93a5df5d-6840-4137-a773-5fbb68c259e2"
      },
      "source": [
        "#importing the updated dataset Amazon electronics ratings 2018\n",
        "from google.colab import drive\n",
        "drive.mount('/content/drive')"
      ],
      "execution_count": 2,
      "outputs": [
        {
          "output_type": "stream",
          "text": [
            "Mounted at /content/drive\n"
          ],
          "name": "stdout"
        }
      ]
    },
    {
      "cell_type": "code",
      "metadata": {
        "id": "ylZ-eYf6c3UN"
      },
      "source": [
        "#Load dataset\n",
        "ratings_electronics = pd.read_csv('/content/drive/MyDrive/Electronics/Electronics.csv', names=['ProductID', 'UserID','Rating', 'Timestamp'])\n"
      ],
      "execution_count": 3,
      "outputs": []
    },
    {
      "cell_type": "markdown",
      "metadata": {
        "id": "-AepY0HQrQZb"
      },
      "source": [
        "## **Exploring the Dataset**"
      ]
    },
    {
      "cell_type": "code",
      "metadata": {
        "colab": {
          "base_uri": "https://localhost:8080/",
          "height": 202
        },
        "id": "t3033ilabYu_",
        "outputId": "46bc6272-cbf5-4c31-d7f8-8b120f159e90"
      },
      "source": [
        "#Snippet of dataset\n",
        "\n",
        "ratings_electronics.head()\n"
      ],
      "execution_count": 4,
      "outputs": [
        {
          "output_type": "execute_result",
          "data": {
            "text/html": [
              "<div>\n",
              "<style scoped>\n",
              "    .dataframe tbody tr th:only-of-type {\n",
              "        vertical-align: middle;\n",
              "    }\n",
              "\n",
              "    .dataframe tbody tr th {\n",
              "        vertical-align: top;\n",
              "    }\n",
              "\n",
              "    .dataframe thead th {\n",
              "        text-align: right;\n",
              "    }\n",
              "</style>\n",
              "<table border=\"1\" class=\"dataframe\">\n",
              "  <thead>\n",
              "    <tr style=\"text-align: right;\">\n",
              "      <th></th>\n",
              "      <th>ProductID</th>\n",
              "      <th>UserID</th>\n",
              "      <th>Rating</th>\n",
              "      <th>Timestamp</th>\n",
              "    </tr>\n",
              "  </thead>\n",
              "  <tbody>\n",
              "    <tr>\n",
              "      <th>0</th>\n",
              "      <td>0060009810</td>\n",
              "      <td>A1N070NS9CJQ2I</td>\n",
              "      <td>5.0</td>\n",
              "      <td>1026864000</td>\n",
              "    </tr>\n",
              "    <tr>\n",
              "      <th>1</th>\n",
              "      <td>0060009810</td>\n",
              "      <td>A3P0KRKOBQK1KN</td>\n",
              "      <td>5.0</td>\n",
              "      <td>1025913600</td>\n",
              "    </tr>\n",
              "    <tr>\n",
              "      <th>2</th>\n",
              "      <td>0060009810</td>\n",
              "      <td>A192HO2ICJ75VU</td>\n",
              "      <td>5.0</td>\n",
              "      <td>1025654400</td>\n",
              "    </tr>\n",
              "    <tr>\n",
              "      <th>3</th>\n",
              "      <td>0060009810</td>\n",
              "      <td>A2T278FKFL3BLT</td>\n",
              "      <td>4.0</td>\n",
              "      <td>1025395200</td>\n",
              "    </tr>\n",
              "    <tr>\n",
              "      <th>4</th>\n",
              "      <td>0060009810</td>\n",
              "      <td>A2ZUXVTW8RXBXW</td>\n",
              "      <td>5.0</td>\n",
              "      <td>1025222400</td>\n",
              "    </tr>\n",
              "  </tbody>\n",
              "</table>\n",
              "</div>"
            ],
            "text/plain": [
              "    ProductID          UserID  Rating   Timestamp\n",
              "0  0060009810  A1N070NS9CJQ2I     5.0  1026864000\n",
              "1  0060009810  A3P0KRKOBQK1KN     5.0  1025913600\n",
              "2  0060009810  A192HO2ICJ75VU     5.0  1025654400\n",
              "3  0060009810  A2T278FKFL3BLT     4.0  1025395200\n",
              "4  0060009810  A2ZUXVTW8RXBXW     5.0  1025222400"
            ]
          },
          "metadata": {
            "tags": []
          },
          "execution_count": 4
        }
      ]
    },
    {
      "cell_type": "code",
      "metadata": {
        "colab": {
          "base_uri": "https://localhost:8080/"
        },
        "id": "ngVoMDHaQEVI",
        "outputId": "83bd51d1-0f55-41af-8606-d279a7f9c3f8"
      },
      "source": [
        "#Data types\n",
        "\n",
        "ratings_electronics.dtypes"
      ],
      "execution_count": 7,
      "outputs": [
        {
          "output_type": "execute_result",
          "data": {
            "text/plain": [
              "ProductID     object\n",
              "UserID        object\n",
              "Rating       float64\n",
              "Timestamp      int64\n",
              "dtype: object"
            ]
          },
          "metadata": {
            "tags": []
          },
          "execution_count": 7
        }
      ]
    },
    {
      "cell_type": "code",
      "metadata": {
        "colab": {
          "base_uri": "https://localhost:8080/"
        },
        "id": "DQ2pmWZKBXRa",
        "outputId": "a0ac9b3e-e49b-471f-d1f7-7986e6a97dd4"
      },
      "source": [
        "#Print data shape in order to determine the subset needed for the analysis\n",
        "ratings_electronics.shape"
      ],
      "execution_count": 8,
      "outputs": [
        {
          "output_type": "execute_result",
          "data": {
            "text/plain": [
              "(20994353, 4)"
            ]
          },
          "metadata": {
            "tags": []
          },
          "execution_count": 8
        }
      ]
    },
    {
      "cell_type": "code",
      "metadata": {
        "colab": {
          "base_uri": "https://localhost:8080/"
        },
        "id": "W5VFjOxUE2dc",
        "outputId": "a50c649e-9407-453f-9cb2-5fd2758f1705"
      },
      "source": [
        "#The dataset has 20,994,353 rows and 4 columns \n",
        "#Choosing a subset of the data\n",
        "\n",
        "ratings_electronics = ratings_electronics.iloc[:5000000,0:]\n",
        "\n",
        "ratings_electronics.shape\n",
        "\n",
        "\n",
        "\n",
        "\n",
        "\n",
        "\n"
      ],
      "execution_count": 4,
      "outputs": [
        {
          "output_type": "execute_result",
          "data": {
            "text/plain": [
              "(5000000, 4)"
            ]
          },
          "metadata": {
            "tags": []
          },
          "execution_count": 4
        }
      ]
    },
    {
      "cell_type": "code",
      "metadata": {
        "colab": {
          "base_uri": "https://localhost:8080/"
        },
        "id": "k_KeY9novQ64",
        "outputId": "ab1e794d-de71-46a2-f087-2277f4dfb87b"
      },
      "source": [
        "#Checking the data to see if there are missing values.\n",
        "if ratings_electronics is not None:\n",
        "  print('There are no missing values in the dataset')"
      ],
      "execution_count": 10,
      "outputs": [
        {
          "output_type": "stream",
          "text": [
            "There are no missing values in the dataset\n"
          ],
          "name": "stdout"
        }
      ]
    },
    {
      "cell_type": "code",
      "metadata": {
        "colab": {
          "base_uri": "https://localhost:8080/"
        },
        "id": "K9lIQsGnQbZ3",
        "outputId": "2b0457ef-29aa-4c70-a432-fa60ad89cf17"
      },
      "source": [
        "#Information about the data\n",
        "\n",
        "ratings_electronics.info()"
      ],
      "execution_count": 11,
      "outputs": [
        {
          "output_type": "stream",
          "text": [
            "<class 'pandas.core.frame.DataFrame'>\n",
            "RangeIndex: 5000000 entries, 0 to 4999999\n",
            "Data columns (total 4 columns):\n",
            " #   Column     Dtype  \n",
            "---  ------     -----  \n",
            " 0   ProductID  object \n",
            " 1   UserID     object \n",
            " 2   Rating     float64\n",
            " 3   Timestamp  int64  \n",
            "dtypes: float64(1), int64(1), object(2)\n",
            "memory usage: 152.6+ MB\n"
          ],
          "name": "stdout"
        }
      ]
    },
    {
      "cell_type": "code",
      "metadata": {
        "colab": {
          "base_uri": "https://localhost:8080/"
        },
        "id": "f8UBR_S3QsJb",
        "outputId": "e7769c7f-1505-4448-967f-28002ac0950b"
      },
      "source": [
        "#Data Statitical summary\n",
        "ratings_electronics.describe()['Rating']"
      ],
      "execution_count": 12,
      "outputs": [
        {
          "output_type": "execute_result",
          "data": {
            "text/plain": [
              "count    5.000000e+06\n",
              "mean     4.102528e+00\n",
              "std      1.346475e+00\n",
              "min      1.000000e+00\n",
              "25%      4.000000e+00\n",
              "50%      5.000000e+00\n",
              "75%      5.000000e+00\n",
              "max      5.000000e+00\n",
              "Name: Rating, dtype: float64"
            ]
          },
          "metadata": {
            "tags": []
          },
          "execution_count": 12
        }
      ]
    },
    {
      "cell_type": "code",
      "metadata": {
        "colab": {
          "base_uri": "https://localhost:8080/"
        },
        "id": "kFNxcELYeZWq",
        "outputId": "c2ad4802-c74f-45d3-834a-28966ee1578c"
      },
      "source": [
        "#Checking for min and max ratings\n",
        "\n",
        "print('Min rate =', ratings_electronics.Rating.min(),  'and max rate =', \n",
        "      ratings_electronics.Rating.max(), 'This implies that the rating for the each product \\nranges from 0 to 5')"
      ],
      "execution_count": 13,
      "outputs": [
        {
          "output_type": "stream",
          "text": [
            "Min rate = 1.0 and max rate = 5.0 This implies that the rating for the each product \n",
            "ranges from 0 to 5\n"
          ],
          "name": "stdout"
        }
      ]
    },
    {
      "cell_type": "code",
      "metadata": {
        "colab": {
          "base_uri": "https://localhost:8080/"
        },
        "id": "CftzualPIP5J",
        "outputId": "85b22ea1-9553-4d3d-c7ac-a0fb934df9bf"
      },
      "source": [
        "#Getting the total number of customers and products reviewed in the data subset \n",
        "print(\"Total number of unique customers and rated products\\n\",\"*\"*60)\n",
        "print(\"Unique users: \", len(np.unique(ratings_electronics.UserID)))\n",
        "print(\"Total number of rated products: \", len(np.unique(ratings_electronics.ProductID)))\n",
        "print(\"Total number of ratings: \", ratings_electronics.shape[0])"
      ],
      "execution_count": 14,
      "outputs": [
        {
          "output_type": "stream",
          "text": [
            "Total number of unique customers and rated products\n",
            " ************************************************************\n",
            "Unique users:  2926618\n",
            "Total number of rated products:  50935\n",
            "Total number of ratings:  5000000\n"
          ],
          "name": "stdout"
        }
      ]
    },
    {
      "cell_type": "markdown",
      "metadata": {
        "id": "uJVjEki--1MU"
      },
      "source": [
        "2,926,618 customers provided 5 million ratings for 50,935 products"
      ]
    },
    {
      "cell_type": "code",
      "metadata": {
        "id": "0iOvQhJz1THb"
      },
      "source": [
        "from matplotlib import pylab"
      ],
      "execution_count": 15,
      "outputs": []
    },
    {
      "cell_type": "code",
      "metadata": {
        "colab": {
          "base_uri": "https://localhost:8080/",
          "height": 313
        },
        "id": "qzk6yBscySpC",
        "outputId": "368d792f-37d8-400f-bbf7-5178ce07ba08"
      },
      "source": [
        "#Display the distribution of customer ratings\n",
        "ht = sns.countplot(x = 'Rating', data= ratings_electronics, color= 'Purple', palette= 'rocket')\n",
        "plt.ylabel('Total Ratings')\n",
        "plt.title(\"Ratings distribution\")\n",
        "plt.savefig('Ratings_Distribution.jpeg')\n",
        "plt.show()\n"
      ],
      "execution_count": 16,
      "outputs": [
        {
          "output_type": "execute_result",
          "data": {
            "text/plain": [
              "Text(0, 0.5, 'Total Ratings')"
            ]
          },
          "metadata": {
            "tags": []
          },
          "execution_count": 16
        },
        {
          "output_type": "execute_result",
          "data": {
            "text/plain": [
              "Text(0.5, 1.0, 'Ratings distribution')"
            ]
          },
          "metadata": {
            "tags": []
          },
          "execution_count": 16
        },
        {
          "output_type": "display_data",
          "data": {
            "image/png": "[encoded data removed]",
            "text/plain": [
              "<Figure size 432x288 with 1 Axes>"
            ]
          },
          "metadata": {
            "tags": [],
            "needs_background": "light"
          }
        }
      ]
    },
    {
      "cell_type": "markdown",
      "metadata": {
        "id": "GYhBLMgIH8Tw"
      },
      "source": [
        "From the distribution above, most customers gave a 5 star rating to electronics on amazon's store. "
      ]
    },
    {
      "cell_type": "code",
      "metadata": {
        "id": "hcNetcaMmnA9"
      },
      "source": [
        "user_ratings = ratings_electronics.groupby('ProductID')['UserID'].count().sort_values(ascending = False)"
      ],
      "execution_count": 14,
      "outputs": []
    },
    {
      "cell_type": "code",
      "metadata": {
        "colab": {
          "base_uri": "https://localhost:8080/",
          "height": 340
        },
        "id": "dcB7hUrQSqSJ",
        "outputId": "4489ad14-f7af-497a-c2c5-376ec61d24f1"
      },
      "source": [
        "#plotting the rating per product\n",
        "ratings_per_pdt = ratings_electronics.groupby(\"ProductID\")[\"Rating\"].count().sort_values(ascending=False)\n",
        "\n",
        "\n",
        "fig = plt.figure(figsize=plt.figaspect(.5))\n",
        "ax = plt.gca()\n",
        "plt.plot( ratings_per_pdt.values, 'r--')\n",
        "plt.title(\"Rating Per Product\")\n",
        "plt.xlabel('Products')\n",
        "plt.ylabel('Ratings per product')\n",
        "ax.set_xticklabels([])\n",
        "plt.savefig('Ratings_Per_Product.jpeg')\n",
        "plt.show()"
      ],
      "execution_count": 24,
      "outputs": [
        {
          "output_type": "execute_result",
          "data": {
            "text/plain": [
              "[<matplotlib.lines.Line2D at 0x7fb676c3c950>]"
            ]
          },
          "metadata": {
            "tags": []
          },
          "execution_count": 24
        },
        {
          "output_type": "execute_result",
          "data": {
            "text/plain": [
              "Text(0.5, 1.0, 'Rating Per Product')"
            ]
          },
          "metadata": {
            "tags": []
          },
          "execution_count": 24
        },
        {
          "output_type": "execute_result",
          "data": {
            "text/plain": [
              "Text(0.5, 0, 'Products')"
            ]
          },
          "metadata": {
            "tags": []
          },
          "execution_count": 24
        },
        {
          "output_type": "execute_result",
          "data": {
            "text/plain": [
              "Text(0, 0.5, 'Ratings per product')"
            ]
          },
          "metadata": {
            "tags": []
          },
          "execution_count": 24
        },
        {
          "output_type": "execute_result",
          "data": {
            "text/plain": [
              "[]"
            ]
          },
          "metadata": {
            "tags": []
          },
          "execution_count": 24
        },
        {
          "output_type": "display_data",
          "data": {
            "image/png": "[encoded data removed]",
            "text/plain": [
              "<Figure size 576x288 with 1 Axes>"
            ]
          },
          "metadata": {
            "tags": [],
            "needs_background": "light"
          }
        }
      ]
    },
    {
      "cell_type": "code",
      "metadata": {
        "colab": {
          "base_uri": "https://localhost:8080/",
          "height": 444
        },
        "id": "q1rRAR7FmRVd",
        "outputId": "4eaeadd8-424b-42ef-ccba-5fd325c66407"
      },
      "source": [
        "#Determing the number of ratings provided by each user\n",
        "\n",
        "rates_per_user=ratings_electronics.groupby(by='UserID')['Rating'].count().sort_values(ascending=False)\n",
        "rates_per_user.head()\n",
        "\n",
        "fig = plt.figure(figsize=plt.figaspect(.5))\n",
        "ax = plt.gca()\n",
        "plt.plot(rates_per_user.values, 'gx')\n",
        "plt.title(\"Rating Per User\")\n",
        "plt.xlabel('Users')\n",
        "plt.ylabel('Ratings per product')\n",
        "ax.set_xticklabels([])\n",
        "plt.savefig('Ratings_per_User.jpeg')\n",
        "plt.show()\n"
      ],
      "execution_count": 25,
      "outputs": [
        {
          "output_type": "execute_result",
          "data": {
            "text/plain": [
              "UserID\n",
              "A5JLAU2ARJ0BO     324\n",
              "A6FIAB28IS79      319\n",
              "A3OXHLG6DIBRW8    281\n",
              "A680RUE1FDO8B     248\n",
              "ADLVFFE4VBT8      220\n",
              "Name: Rating, dtype: int64"
            ]
          },
          "metadata": {
            "tags": []
          },
          "execution_count": 25
        },
        {
          "output_type": "execute_result",
          "data": {
            "text/plain": [
              "[<matplotlib.lines.Line2D at 0x7fb676b4fdd0>]"
            ]
          },
          "metadata": {
            "tags": []
          },
          "execution_count": 25
        },
        {
          "output_type": "execute_result",
          "data": {
            "text/plain": [
              "Text(0.5, 1.0, 'Rating Per User')"
            ]
          },
          "metadata": {
            "tags": []
          },
          "execution_count": 25
        },
        {
          "output_type": "execute_result",
          "data": {
            "text/plain": [
              "Text(0.5, 0, 'Users')"
            ]
          },
          "metadata": {
            "tags": []
          },
          "execution_count": 25
        },
        {
          "output_type": "execute_result",
          "data": {
            "text/plain": [
              "Text(0, 0.5, 'Ratings per product')"
            ]
          },
          "metadata": {
            "tags": []
          },
          "execution_count": 25
        },
        {
          "output_type": "execute_result",
          "data": {
            "text/plain": [
              "[]"
            ]
          },
          "metadata": {
            "tags": []
          },
          "execution_count": 25
        },
        {
          "output_type": "display_data",
          "data": {
            "image/png": "[encoded data removed]",
            "text/plain": [
              "<Figure size 576x288 with 1 Axes>"
            ]
          },
          "metadata": {
            "tags": [],
            "needs_background": "light"
          }
        }
      ]
    },
    {
      "cell_type": "markdown",
      "metadata": {
        "id": "cY9sYrP3scZy"
      },
      "source": [
        "From the data subset that is going to be used in building the recommendation system, the most ratings provided by one customer is 324."
      ]
    },
    {
      "cell_type": "code",
      "metadata": {
        "id": "zj-kdqd-NknZ"
      },
      "source": [
        "#Dropping columns not needed in the analysis \n",
        "del ratings_electronics['Timestamp']\n"
      ],
      "execution_count": 5,
      "outputs": []
    },
    {
      "cell_type": "markdown",
      "metadata": {
        "id": "3XeJjfgNJomx"
      },
      "source": [
        "Dropped the Timestamp column as it won't be needed in building a model-based collaborative filtering recommendation. Timestamps are useful in building Time-Sensitive collaborative filtering models in recommender systems (L. Sun, E. I. Michael, S. Wang and Y. Li, \"A Time-Sensitive Collaborative Filtering Model in Recommendation Systems,\" 2016 IEEE International Conference on Internet of Things (iThings) and IEEE Green Computing and Communications (GreenCom) and IEEE Cyber, Physical and Social Computing (CPSCom) and IEEE Smart Data (SmartData), Chengdu, China, 2016, pp. 340-344, doi: 10.1109/iThings-GreenCom-CPSCom-SmartData.2016.81.)"
      ]
    },
    {
      "cell_type": "code",
      "metadata": {
        "colab": {
          "base_uri": "https://localhost:8080/",
          "height": 202
        },
        "id": "AogFPTXGZIC9",
        "outputId": "af74546a-cd50-4266-c724-5f24a5ccdf02"
      },
      "source": [
        "ratings_electronics.head()"
      ],
      "execution_count": 6,
      "outputs": [
        {
          "output_type": "execute_result",
          "data": {
            "text/html": [
              "<div>\n",
              "<style scoped>\n",
              "    .dataframe tbody tr th:only-of-type {\n",
              "        vertical-align: middle;\n",
              "    }\n",
              "\n",
              "    .dataframe tbody tr th {\n",
              "        vertical-align: top;\n",
              "    }\n",
              "\n",
              "    .dataframe thead th {\n",
              "        text-align: right;\n",
              "    }\n",
              "</style>\n",
              "<table border=\"1\" class=\"dataframe\">\n",
              "  <thead>\n",
              "    <tr style=\"text-align: right;\">\n",
              "      <th></th>\n",
              "      <th>ProductID</th>\n",
              "      <th>UserID</th>\n",
              "      <th>Rating</th>\n",
              "    </tr>\n",
              "  </thead>\n",
              "  <tbody>\n",
              "    <tr>\n",
              "      <th>0</th>\n",
              "      <td>0060009810</td>\n",
              "      <td>A1N070NS9CJQ2I</td>\n",
              "      <td>5.0</td>\n",
              "    </tr>\n",
              "    <tr>\n",
              "      <th>1</th>\n",
              "      <td>0060009810</td>\n",
              "      <td>A3P0KRKOBQK1KN</td>\n",
              "      <td>5.0</td>\n",
              "    </tr>\n",
              "    <tr>\n",
              "      <th>2</th>\n",
              "      <td>0060009810</td>\n",
              "      <td>A192HO2ICJ75VU</td>\n",
              "      <td>5.0</td>\n",
              "    </tr>\n",
              "    <tr>\n",
              "      <th>3</th>\n",
              "      <td>0060009810</td>\n",
              "      <td>A2T278FKFL3BLT</td>\n",
              "      <td>4.0</td>\n",
              "    </tr>\n",
              "    <tr>\n",
              "      <th>4</th>\n",
              "      <td>0060009810</td>\n",
              "      <td>A2ZUXVTW8RXBXW</td>\n",
              "      <td>5.0</td>\n",
              "    </tr>\n",
              "  </tbody>\n",
              "</table>\n",
              "</div>"
            ],
            "text/plain": [
              "    ProductID          UserID  Rating\n",
              "0  0060009810  A1N070NS9CJQ2I     5.0\n",
              "1  0060009810  A3P0KRKOBQK1KN     5.0\n",
              "2  0060009810  A192HO2ICJ75VU     5.0\n",
              "3  0060009810  A2T278FKFL3BLT     4.0\n",
              "4  0060009810  A2ZUXVTW8RXBXW     5.0"
            ]
          },
          "metadata": {
            "tags": []
          },
          "execution_count": 6
        }
      ]
    },
    {
      "cell_type": "markdown",
      "metadata": {
        "id": "goWUEETfdvCi"
      },
      "source": [
        "From the data subset that is going to be used in building the recommendation system, the most ratings provided by one customer is 324."
      ]
    },
    {
      "cell_type": "code",
      "metadata": {
        "id": "Qp2hWbDDd7Wu",
        "colab": {
          "base_uri": "https://localhost:8080/"
        },
        "outputId": "306994c6-d214-43ca-e0e7-2e051bbf60a3"
      },
      "source": [
        "ratings_electronics.shape"
      ],
      "execution_count": 19,
      "outputs": [
        {
          "output_type": "execute_result",
          "data": {
            "text/plain": [
              "(5000000, 3)"
            ]
          },
          "metadata": {
            "tags": []
          },
          "execution_count": 19
        }
      ]
    },
    {
      "cell_type": "markdown",
      "metadata": {
        "id": "bbwmTh-MoNM_"
      },
      "source": [
        "## **Popularity-Based Recommendation(Simple Recommender)**\n",
        "\n",
        "This system utilizes the popularity characteristics of products as popularity of a product greatly influences consumer purchasing decisions and often represents important characteristics of a product.\n",
        "This system works best for businesses that are focused on marketing goods and services that are in trend. \n",
        "\n",
        "A commonly known major setback with this method is that, it can't be personalized. "
      ]
    },
    {
      "cell_type": "code",
      "metadata": {
        "id": "eRlrM5bAobdf"
      },
      "source": [
        "#Downsizing dataframe to only contain products that received 50 ratings and above\n",
        "most_rates = ratings_electronics.groupby(\"ProductID\").filter(lambda x:x[\"Rating\"].count()>=50)\n"
      ],
      "execution_count": 20,
      "outputs": []
    },
    {
      "cell_type": "markdown",
      "metadata": {
        "id": "R9u8D-us98_c"
      },
      "source": [
        "Downsized the dataframe to only contain products that received 50 ratings and above. "
      ]
    },
    {
      "cell_type": "code",
      "metadata": {
        "id": "rj8Opzyk61Y5"
      },
      "source": [
        "#Save Dataframe to drive\n",
        "most_rates.to_csv('/content/drive/MyDrive/Electronics/Over_50_rates.csv')"
      ],
      "execution_count": null,
      "outputs": []
    },
    {
      "cell_type": "code",
      "metadata": {
        "id": "GUrvDS4x62mI"
      },
      "source": [
        "most_rates = pd.read_csv('/content/drive/MyDrive/Electronics/Over_50_rates.csv')"
      ],
      "execution_count": 6,
      "outputs": []
    },
    {
      "cell_type": "code",
      "metadata": {
        "id": "tyCKRRvn7iwL"
      },
      "source": [
        "del most_rates['Unnamed: 0']"
      ],
      "execution_count": 7,
      "outputs": []
    },
    {
      "cell_type": "code",
      "metadata": {
        "colab": {
          "base_uri": "https://localhost:8080/",
          "height": 219
        },
        "id": "nBf-316oum20",
        "outputId": "6fa4ecdc-485e-46bb-adf3-cdc6d3bf9023"
      },
      "source": [
        "most_rates.head()\n",
        "most_rates.shape"
      ],
      "execution_count": 8,
      "outputs": [
        {
          "output_type": "execute_result",
          "data": {
            "text/html": [
              "<div>\n",
              "<style scoped>\n",
              "    .dataframe tbody tr th:only-of-type {\n",
              "        vertical-align: middle;\n",
              "    }\n",
              "\n",
              "    .dataframe tbody tr th {\n",
              "        vertical-align: top;\n",
              "    }\n",
              "\n",
              "    .dataframe thead th {\n",
              "        text-align: right;\n",
              "    }\n",
              "</style>\n",
              "<table border=\"1\" class=\"dataframe\">\n",
              "  <thead>\n",
              "    <tr style=\"text-align: right;\">\n",
              "      <th></th>\n",
              "      <th>ProductID</th>\n",
              "      <th>UserID</th>\n",
              "      <th>Rating</th>\n",
              "    </tr>\n",
              "  </thead>\n",
              "  <tbody>\n",
              "    <tr>\n",
              "      <th>0</th>\n",
              "      <td>0511189877</td>\n",
              "      <td>A3J3BRHTDRFJ2G</td>\n",
              "      <td>2.0</td>\n",
              "    </tr>\n",
              "    <tr>\n",
              "      <th>1</th>\n",
              "      <td>0511189877</td>\n",
              "      <td>A1QGNMC6O1VW39</td>\n",
              "      <td>5.0</td>\n",
              "    </tr>\n",
              "    <tr>\n",
              "      <th>2</th>\n",
              "      <td>0511189877</td>\n",
              "      <td>A2TY0BTJOTENPG</td>\n",
              "      <td>5.0</td>\n",
              "    </tr>\n",
              "    <tr>\n",
              "      <th>3</th>\n",
              "      <td>0511189877</td>\n",
              "      <td>A34ATBPOK6HCHY</td>\n",
              "      <td>5.0</td>\n",
              "    </tr>\n",
              "    <tr>\n",
              "      <th>4</th>\n",
              "      <td>0511189877</td>\n",
              "      <td>A89DO69P0XZ27</td>\n",
              "      <td>5.0</td>\n",
              "    </tr>\n",
              "  </tbody>\n",
              "</table>\n",
              "</div>"
            ],
            "text/plain": [
              "    ProductID          UserID  Rating\n",
              "0  0511189877  A3J3BRHTDRFJ2G     2.0\n",
              "1  0511189877  A1QGNMC6O1VW39     5.0\n",
              "2  0511189877  A2TY0BTJOTENPG     5.0\n",
              "3  0511189877  A34ATBPOK6HCHY     5.0\n",
              "4  0511189877   A89DO69P0XZ27     5.0"
            ]
          },
          "metadata": {
            "tags": []
          },
          "execution_count": 8
        },
        {
          "output_type": "execute_result",
          "data": {
            "text/plain": [
              "(4471445, 3)"
            ]
          },
          "metadata": {
            "tags": []
          },
          "execution_count": 8
        }
      ]
    },
    {
      "cell_type": "code",
      "metadata": {
        "id": "ZdwjsOc_iyLa"
      },
      "source": [
        ""
      ],
      "execution_count": 22,
      "outputs": []
    },
    {
      "cell_type": "code",
      "metadata": {
        "colab": {
          "base_uri": "https://localhost:8080/"
        },
        "id": "8oTpQtV9SNOs",
        "outputId": "00190d67-be5b-4db8-d97f-a7c1da004211"
      },
      "source": [
        "#Number of ratings received by each product\n",
        "ratings_per_pdt = most_rates.groupby(\"ProductID\")[\"Rating\"].count()\n",
        "ratings_per_pdt.head()"
      ],
      "execution_count": 35,
      "outputs": [
        {
          "output_type": "execute_result",
          "data": {
            "text/plain": [
              "ProductID\n",
              "0101635370     68\n",
              "0511189877    105\n",
              "0545105668     52\n",
              "0594033926     82\n",
              "0594459451    124\n",
              "Name: Rating, dtype: int64"
            ]
          },
          "metadata": {
            "tags": []
          },
          "execution_count": 35
        }
      ]
    },
    {
      "cell_type": "code",
      "metadata": {
        "colab": {
          "base_uri": "https://localhost:8080/"
        },
        "id": "P_x1t9fR2PSJ",
        "outputId": "c6de11ea-b7bd-4bca-858f-529ab47308c7"
      },
      "source": [
        "#Average product rating \n",
        "\n",
        "avg_rate_per_pdt = most_rates.groupby('ProductID')['Rating'].mean()\n",
        "avg_rate_per_pdt.head()"
      ],
      "execution_count": 36,
      "outputs": [
        {
          "output_type": "execute_result",
          "data": {
            "text/plain": [
              "ProductID\n",
              "0101635370    2.985294\n",
              "0511189877    4.266667\n",
              "0545105668    4.692308\n",
              "0594033926    4.634146\n",
              "0594459451    4.540323\n",
              "Name: Rating, dtype: float64"
            ]
          },
          "metadata": {
            "tags": []
          },
          "execution_count": 36
        }
      ]
    },
    {
      "cell_type": "markdown",
      "metadata": {
        "id": "-nfECxCQtLXV"
      },
      "source": [
        "To determine the final rating of a product, add all the ratings users gave that product and divide by the total ratings received by the product to get the average "
      ]
    },
    {
      "cell_type": "code",
      "metadata": {
        "colab": {
          "base_uri": "https://localhost:8080/"
        },
        "id": "wYcrxFAitsRB",
        "outputId": "c3ee14d9-f022-4c49-b9aa-ea2783686632"
      },
      "source": [
        "#Getting the products with the highest Average rating \n",
        "\n",
        "most_rates.groupby('ProductID')['Rating'].mean().sort_values(ascending = False).head(10)"
      ],
      "execution_count": 37,
      "outputs": [
        {
          "output_type": "execute_result",
          "data": {
            "text/plain": [
              "ProductID\n",
              "1630460001    5.000000\n",
              "B00180IWA6    5.000000\n",
              "B000SL2AQI    5.000000\n",
              "B003BLVOE6    5.000000\n",
              "B00008VSKS    5.000000\n",
              "B003L1AINY    5.000000\n",
              "B001F21XIK    5.000000\n",
              "B000HARV82    5.000000\n",
              "B00000J0MS    4.997494\n",
              "B000TMFYBO    4.963636\n",
              "Name: Rating, dtype: float64"
            ]
          },
          "metadata": {
            "tags": []
          },
          "execution_count": 37
        }
      ]
    },
    {
      "cell_type": "markdown",
      "metadata": {
        "id": "xN7-lQ4vuXjr"
      },
      "source": [
        "Products B000HARV82 and B00008VSKS got 5 stars from all customers that rated the product. This is a good indicator for the seller to put more of these products on their shelves or website. 5 star rating is a good feedback from customers indicating either their satisfaction or how valuable they found the product or service. "
      ]
    },
    {
      "cell_type": "code",
      "metadata": {
        "colab": {
          "base_uri": "https://localhost:8080/"
        },
        "id": "JGrkq_f7ul3W",
        "outputId": "cdcc69fa-a99b-4106-8869-13e24366d364"
      },
      "source": [
        "#Total number of ratings received by each product\n",
        "\n",
        "most_rates.groupby('ProductID')['Rating'].count().sort_values(ascending=False).head(10)"
      ],
      "execution_count": 38,
      "outputs": [
        {
          "output_type": "execute_result",
          "data": {
            "text/plain": [
              "ProductID\n",
              "B003L1ZYYW    16046\n",
              "B0019HL8Q8    15389\n",
              "B0019EHU8G    14133\n",
              "B0015DYMVO    13836\n",
              "B000BQ7GW8    13768\n",
              "B0043T7FXE    13024\n",
              "B000VS4HDM    10708\n",
              "B0043WJRRS    10685\n",
              "B0013FRNKG    10212\n",
              "B003MTTJOY    10186\n",
              "Name: Rating, dtype: int64"
            ]
          },
          "metadata": {
            "tags": []
          },
          "execution_count": 38
        }
      ]
    },
    {
      "cell_type": "markdown",
      "metadata": {
        "id": "aUUrcy-QOKUV"
      },
      "source": [
        "Product B003L1ZYYW received 16046 ratings which is the most ratings received by a single product."
      ]
    },
    {
      "cell_type": "code",
      "metadata": {
        "id": "-8yCWHKvykql"
      },
      "source": [
        "#Creating a new Dataframe that contains the ProductID, \n",
        "#Average rating(Rating) and total rating(Ratings_count) received by each product\n",
        "\n",
        "avg_total_rating = pd.DataFrame(most_rates.groupby('ProductID')['Rating'].mean())"
      ],
      "execution_count": 39,
      "outputs": []
    },
    {
      "cell_type": "code",
      "metadata": {
        "id": "TNleSjgM4bOK"
      },
      "source": [
        "avg_total_rating['Ratings_Count'] = pd.DataFrame(most_rates.groupby('ProductID')['Rating'].count())"
      ],
      "execution_count": 40,
      "outputs": []
    },
    {
      "cell_type": "code",
      "metadata": {
        "colab": {
          "base_uri": "https://localhost:8080/",
          "height": 233
        },
        "id": "-vinmgEP5HYt",
        "outputId": "3300ddcd-67c5-4bae-e035-d06e2815f615"
      },
      "source": [
        "\n",
        "avg_total_rating.head()"
      ],
      "execution_count": 41,
      "outputs": [
        {
          "output_type": "execute_result",
          "data": {
            "text/html": [
              "<div>\n",
              "<style scoped>\n",
              "    .dataframe tbody tr th:only-of-type {\n",
              "        vertical-align: middle;\n",
              "    }\n",
              "\n",
              "    .dataframe tbody tr th {\n",
              "        vertical-align: top;\n",
              "    }\n",
              "\n",
              "    .dataframe thead th {\n",
              "        text-align: right;\n",
              "    }\n",
              "</style>\n",
              "<table border=\"1\" class=\"dataframe\">\n",
              "  <thead>\n",
              "    <tr style=\"text-align: right;\">\n",
              "      <th></th>\n",
              "      <th>Rating</th>\n",
              "      <th>Ratings_Count</th>\n",
              "    </tr>\n",
              "    <tr>\n",
              "      <th>ProductID</th>\n",
              "      <th></th>\n",
              "      <th></th>\n",
              "    </tr>\n",
              "  </thead>\n",
              "  <tbody>\n",
              "    <tr>\n",
              "      <th>0101635370</th>\n",
              "      <td>2.985294</td>\n",
              "      <td>68</td>\n",
              "    </tr>\n",
              "    <tr>\n",
              "      <th>0511189877</th>\n",
              "      <td>4.266667</td>\n",
              "      <td>105</td>\n",
              "    </tr>\n",
              "    <tr>\n",
              "      <th>0545105668</th>\n",
              "      <td>4.692308</td>\n",
              "      <td>52</td>\n",
              "    </tr>\n",
              "    <tr>\n",
              "      <th>0594033926</th>\n",
              "      <td>4.634146</td>\n",
              "      <td>82</td>\n",
              "    </tr>\n",
              "    <tr>\n",
              "      <th>0594459451</th>\n",
              "      <td>4.540323</td>\n",
              "      <td>124</td>\n",
              "    </tr>\n",
              "  </tbody>\n",
              "</table>\n",
              "</div>"
            ],
            "text/plain": [
              "              Rating  Ratings_Count\n",
              "ProductID                          \n",
              "0101635370  2.985294             68\n",
              "0511189877  4.266667            105\n",
              "0545105668  4.692308             52\n",
              "0594033926  4.634146             82\n",
              "0594459451  4.540323            124"
            ]
          },
          "metadata": {
            "tags": []
          },
          "execution_count": 41
        }
      ]
    },
    {
      "cell_type": "code",
      "metadata": {
        "colab": {
          "base_uri": "https://localhost:8080/"
        },
        "id": "oHIYlGbgMo-A",
        "outputId": "c1dcf151-a7fd-4529-abee-7e8933fd654f"
      },
      "source": [
        "avg_total_rating['Ratings_Count'].sort_values(ascending = False).head()"
      ],
      "execution_count": 42,
      "outputs": [
        {
          "output_type": "execute_result",
          "data": {
            "text/plain": [
              "ProductID\n",
              "B003L1ZYYW    16046\n",
              "B0019HL8Q8    15389\n",
              "B0019EHU8G    14133\n",
              "B0015DYMVO    13836\n",
              "B000BQ7GW8    13768\n",
              "Name: Ratings_Count, dtype: int64"
            ]
          },
          "metadata": {
            "tags": []
          },
          "execution_count": 42
        }
      ]
    },
    {
      "cell_type": "code",
      "metadata": {
        "colab": {
          "base_uri": "https://localhost:8080/"
        },
        "id": "LoclBC0s9in2",
        "outputId": "fec5683d-7bca-48ff-c08e-7a0ff8bd7405"
      },
      "source": [
        "avg_total_rating.shape"
      ],
      "execution_count": 43,
      "outputs": [
        {
          "output_type": "execute_result",
          "data": {
            "text/plain": [
              "(15497, 2)"
            ]
          },
          "metadata": {
            "tags": []
          },
          "execution_count": 43
        }
      ]
    },
    {
      "cell_type": "code",
      "metadata": {
        "colab": {
          "base_uri": "https://localhost:8080/",
          "height": 417
        },
        "id": "lqACg-095aYY",
        "outputId": "5d5cbd17-f7a3-46d5-9b4a-9dcd598fbd06"
      },
      "source": [
        "\n",
        "plt.title('Average Rating Distribution')\n",
        "plt.hist(avg_total_rating['Rating'], color='#0504aa', alpha=0.75)\n",
        "plt.xlabel('Average_Rating')\n",
        "plt.grid(axis= 'y', alpha=0.75)\n",
        "plt.savefig('Average_Rating_Distribution.jpeg')\n",
        "plt.show()"
      ],
      "execution_count": 47,
      "outputs": [
        {
          "output_type": "execute_result",
          "data": {
            "text/plain": [
              "Text(0.5, 1.0, 'Average Rating Distribution')"
            ]
          },
          "metadata": {
            "tags": []
          },
          "execution_count": 47
        },
        {
          "output_type": "execute_result",
          "data": {
            "text/plain": [
              "(array([  14.,   28.,   83.,  241.,  626., 1331., 2676., 4250., 4819.,\n",
              "        1429.]),\n",
              " array([1.26470588, 1.63823529, 2.01176471, 2.38529412, 2.75882353,\n",
              "        3.13235294, 3.50588235, 3.87941176, 4.25294118, 4.62647059,\n",
              "        5.        ]),\n",
              " <a list of 10 Patch objects>)"
            ]
          },
          "metadata": {
            "tags": []
          },
          "execution_count": 47
        },
        {
          "output_type": "execute_result",
          "data": {
            "text/plain": [
              "Text(0.5, 0, 'Average_Rating')"
            ]
          },
          "metadata": {
            "tags": []
          },
          "execution_count": 47
        },
        {
          "output_type": "display_data",
          "data": {
            "image/png": "[encoded data removed]",
            "text/plain": [
              "<Figure size 432x288 with 1 Axes>"
            ]
          },
          "metadata": {
            "tags": [],
            "needs_background": "light"
          }
        }
      ]
    },
    {
      "cell_type": "markdown",
      "metadata": {
        "id": "3yNhm_Sd91U0"
      },
      "source": [
        "Most of the products which received 50 ratings and above had an average rating of between 4.3 and 4.5"
      ]
    },
    {
      "cell_type": "code",
      "metadata": {
        "colab": {
          "base_uri": "https://localhost:8080/",
          "height": 493
        },
        "id": "yLb67hUn-Mao",
        "outputId": "a28e9274-cc14-4cf9-daad-264c04335992"
      },
      "source": [
        "#Ratings Vs Ratings received \n",
        "plt.figure(figsize=(20,50))\n",
        "fig.suptitle('Ratings VS Ratings_Received')\n",
        "sns.jointplot(x='Rating', y='Ratings_Count', data= avg_total_rating, alpha=1, color='r', marker = '+')\n",
        "fig.suptitle('Ratings VS Ratings_Received')\n",
        "plt.savefig('Average Ratings VS Ratings Received.jpeg')\n",
        "plt.show()"
      ],
      "execution_count": 46,
      "outputs": [
        {
          "output_type": "execute_result",
          "data": {
            "text/plain": [
              "<Figure size 1440x3600 with 0 Axes>"
            ]
          },
          "metadata": {
            "tags": []
          },
          "execution_count": 46
        },
        {
          "output_type": "execute_result",
          "data": {
            "text/plain": [
              "Text(0.5, 0.98, 'Ratings VS Ratings_Received')"
            ]
          },
          "metadata": {
            "tags": []
          },
          "execution_count": 46
        },
        {
          "output_type": "execute_result",
          "data": {
            "text/plain": [
              "<seaborn.axisgrid.JointGrid at 0x7fb657132a50>"
            ]
          },
          "metadata": {
            "tags": []
          },
          "execution_count": 46
        },
        {
          "output_type": "execute_result",
          "data": {
            "text/plain": [
              "Text(0.5, 0.98, 'Ratings VS Ratings_Received')"
            ]
          },
          "metadata": {
            "tags": []
          },
          "execution_count": 46
        },
        {
          "output_type": "display_data",
          "data": {
            "text/plain": [
              "<Figure size 1440x3600 with 0 Axes>"
            ]
          },
          "metadata": {
            "tags": []
          }
        },
        {
          "output_type": "display_data",
          "data": {
            "image/png": "[encoded data removed]",
            "text/plain": [
              "<Figure size 432x432 with 3 Axes>"
            ]
          },
          "metadata": {
            "tags": [],
            "needs_background": "light"
          }
        }
      ]
    },
    {
      "cell_type": "markdown",
      "metadata": {
        "id": "A9BSJDWfCj23"
      },
      "source": [
        "From the figure above, the products with ratings between 4.3 to 4.5 received the most reviews from buyers. The amount of reviews given begins to drop as the rating moves closer to 5 stars. \n",
        "In all fairness, the ratings for the products that received less reviews would have been better if they received a proportionate amount of reviews as the products the received the most ratings. Also, the poor ratings that they received my have deterred customers away from buying the products. For example, comparing the rating of a product that has 2 starts from 3 reviews to one that 4 stars from 500 ratings won't be fair. \n",
        "\n",
        "This is also be used by a business to see which products are getting more reviews and determine how they earn more reviews on the products are getting less reviews"
      ]
    },
    {
      "cell_type": "code",
      "metadata": {
        "colab": {
          "base_uri": "https://localhost:8080/",
          "height": 393
        },
        "id": "425yQRRrNIhZ",
        "outputId": "6f4b55f2-d284-491e-fb9d-436496ed4612"
      },
      "source": [
        "#Popular products based on total number of ratings provided by customers \n",
        "\n",
        "pop_pdts = pd.DataFrame(most_rates.groupby('ProductID')['Rating'].count())\n",
        "most_pop = pop_pdts.sort_values('Rating', ascending = False)\n",
        "most_pop.head(40).plot(kind='bar', color='c')\n",
        "plt.ylabel('Ratings received')\n",
        "plt.title(\"Top 40 Products based on popularity\")\n",
        "plt.savefig('Most_Popular_products.jpeg')\n",
        "plt.show()\n"
      ],
      "execution_count": 23,
      "outputs": [
        {
          "output_type": "execute_result",
          "data": {
            "text/plain": [
              "<matplotlib.axes._subplots.AxesSubplot at 0x7f3550b7ffd0>"
            ]
          },
          "metadata": {
            "tags": []
          },
          "execution_count": 23
        },
        {
          "output_type": "execute_result",
          "data": {
            "text/plain": [
              "Text(0, 0.5, 'Ratings received')"
            ]
          },
          "metadata": {
            "tags": []
          },
          "execution_count": 23
        },
        {
          "output_type": "execute_result",
          "data": {
            "text/plain": [
              "Text(0.5, 1.0, 'Top 40 Products based on popularity')"
            ]
          },
          "metadata": {
            "tags": []
          },
          "execution_count": 23
        },
        {
          "output_type": "display_data",
          "data": {
            "image/png": "[encoded data removed]",
            "text/plain": [
              "<Figure size 432x288 with 1 Axes>"
            ]
          },
          "metadata": {
            "tags": [],
            "needs_background": "light"
          }
        }
      ]
    },
    {
      "cell_type": "markdown",
      "metadata": {
        "id": "cT3HqdsxWkXW"
      },
      "source": [
        "The plot above shows the top 40 popular electronics on Amazon's online store based on the number of rating provided by customers. These products would be the first to be recommended to a customer browsing through the electronics section on Amazon's website because of their popularity.  "
      ]
    },
    {
      "cell_type": "markdown",
      "metadata": {
        "id": "QhzgwHAriBHa"
      },
      "source": [
        "# **Model-Based Collaborative Filtering**\n",
        "\n",
        "Using machine learning to train models to make predictions \n",
        "\n"
      ]
    },
    {
      "cell_type": "code",
      "metadata": {
        "colab": {
          "base_uri": "https://localhost:8080/"
        },
        "id": "sosO0JGqSrsT",
        "outputId": "270ef377-9bc2-4ab2-db23-d6073f609ba0"
      },
      "source": [
        "pip install scikit-surprise"
      ],
      "execution_count": 9,
      "outputs": [
        {
          "output_type": "stream",
          "text": [
            "Collecting scikit-surprise\n",
            "\u001b[?25l  Downloading https://files.pythonhosted.org/packages/97/37/5d334adaf5ddd65da99fc65f6507e0e4599d092ba048f4302fe8775619e8/scikit-surprise-1.1.1.tar.gz (11.8MB)\n",
            "\u001b[K     |████████████████████████████████| 11.8MB 5.7MB/s \n",
            "\u001b[?25hRequirement already satisfied: joblib>=0.11 in /usr/local/lib/python3.7/dist-packages (from scikit-surprise) (1.0.1)\n",
            "Requirement already satisfied: numpy>=1.11.2 in /usr/local/lib/python3.7/dist-packages (from scikit-surprise) (1.19.5)\n",
            "Requirement already satisfied: scipy>=1.0.0 in /usr/local/lib/python3.7/dist-packages (from scikit-surprise) (1.4.1)\n",
            "Requirement already satisfied: six>=1.10.0 in /usr/local/lib/python3.7/dist-packages (from scikit-surprise) (1.15.0)\n",
            "Building wheels for collected packages: scikit-surprise\n",
            "  Building wheel for scikit-surprise (setup.py) ... \u001b[?25l\u001b[?25hdone\n",
            "  Created wheel for scikit-surprise: filename=scikit_surprise-1.1.1-cp37-cp37m-linux_x86_64.whl size=1617584 sha256=d52196a371a2e994e456abbed7c3580769c028827927fc005f7f027beb6e4d6f\n",
            "  Stored in directory: /root/.cache/pip/wheels/78/9c/3d/41b419c9d2aff5b6e2b4c0fc8d25c538202834058f9ed110d0\n",
            "Successfully built scikit-surprise\n",
            "Installing collected packages: scikit-surprise\n",
            "Successfully installed scikit-surprise-1.1.1\n"
          ],
          "name": "stdout"
        }
      ]
    },
    {
      "cell_type": "code",
      "metadata": {
        "id": "jO2LUhHxR5dC"
      },
      "source": [
        "from surprise import SVD\n",
        "from surprise import Dataset\n",
        "from surprise import accuracy\n",
        "from surprise import Reader\n",
        "import os\n",
        "from surprise.model_selection import train_test_split\n"
      ],
      "execution_count": 11,
      "outputs": []
    },
    {
      "cell_type": "code",
      "metadata": {
        "id": "Ru4Bs7-vSsy8"
      },
      "source": [
        "e_rating = ratings_electronics.head(1000000)"
      ],
      "execution_count": 12,
      "outputs": []
    },
    {
      "cell_type": "code",
      "metadata": {
        "colab": {
          "base_uri": "https://localhost:8080/"
        },
        "id": "bmWVTsG3TAP-",
        "outputId": "0444e981-4c00-4d41-d443-f42d21bf4fc9"
      },
      "source": [
        "e_rating.shape"
      ],
      "execution_count": 13,
      "outputs": [
        {
          "output_type": "execute_result",
          "data": {
            "text/plain": [
              "(1000000, 3)"
            ]
          },
          "metadata": {
            "tags": []
          },
          "execution_count": 13
        }
      ]
    },
    {
      "cell_type": "code",
      "metadata": {
        "colab": {
          "base_uri": "https://localhost:8080/",
          "height": 202
        },
        "id": "TC4pJxcfTcVR",
        "outputId": "1f8296e4-077d-437c-b710-3d56bcc0a4af"
      },
      "source": [
        "e_rating.head()"
      ],
      "execution_count": 14,
      "outputs": [
        {
          "output_type": "execute_result",
          "data": {
            "text/html": [
              "<div>\n",
              "<style scoped>\n",
              "    .dataframe tbody tr th:only-of-type {\n",
              "        vertical-align: middle;\n",
              "    }\n",
              "\n",
              "    .dataframe tbody tr th {\n",
              "        vertical-align: top;\n",
              "    }\n",
              "\n",
              "    .dataframe thead th {\n",
              "        text-align: right;\n",
              "    }\n",
              "</style>\n",
              "<table border=\"1\" class=\"dataframe\">\n",
              "  <thead>\n",
              "    <tr style=\"text-align: right;\">\n",
              "      <th></th>\n",
              "      <th>ProductID</th>\n",
              "      <th>UserID</th>\n",
              "      <th>Rating</th>\n",
              "    </tr>\n",
              "  </thead>\n",
              "  <tbody>\n",
              "    <tr>\n",
              "      <th>0</th>\n",
              "      <td>0060009810</td>\n",
              "      <td>A1N070NS9CJQ2I</td>\n",
              "      <td>5.0</td>\n",
              "    </tr>\n",
              "    <tr>\n",
              "      <th>1</th>\n",
              "      <td>0060009810</td>\n",
              "      <td>A3P0KRKOBQK1KN</td>\n",
              "      <td>5.0</td>\n",
              "    </tr>\n",
              "    <tr>\n",
              "      <th>2</th>\n",
              "      <td>0060009810</td>\n",
              "      <td>A192HO2ICJ75VU</td>\n",
              "      <td>5.0</td>\n",
              "    </tr>\n",
              "    <tr>\n",
              "      <th>3</th>\n",
              "      <td>0060009810</td>\n",
              "      <td>A2T278FKFL3BLT</td>\n",
              "      <td>4.0</td>\n",
              "    </tr>\n",
              "    <tr>\n",
              "      <th>4</th>\n",
              "      <td>0060009810</td>\n",
              "      <td>A2ZUXVTW8RXBXW</td>\n",
              "      <td>5.0</td>\n",
              "    </tr>\n",
              "  </tbody>\n",
              "</table>\n",
              "</div>"
            ],
            "text/plain": [
              "    ProductID          UserID  Rating\n",
              "0  0060009810  A1N070NS9CJQ2I     5.0\n",
              "1  0060009810  A3P0KRKOBQK1KN     5.0\n",
              "2  0060009810  A192HO2ICJ75VU     5.0\n",
              "3  0060009810  A2T278FKFL3BLT     4.0\n",
              "4  0060009810  A2ZUXVTW8RXBXW     5.0"
            ]
          },
          "metadata": {
            "tags": []
          },
          "execution_count": 14
        }
      ]
    },
    {
      "cell_type": "markdown",
      "metadata": {
        "id": "b-WW5u8CThCU"
      },
      "source": [
        "Splitting the data into Test and train sets\n"
      ]
    },
    {
      "cell_type": "code",
      "metadata": {
        "id": "RYAkafGXaDgp"
      },
      "source": [
        "#reading the dataset\n",
        "reader = Reader(rating_scale=(1,5))\n",
        "data = Dataset.load_from_df(e_rating[['UserID','ProductID', 'Rating']],reader)"
      ],
      "execution_count": 15,
      "outputs": []
    },
    {
      "cell_type": "code",
      "metadata": {
        "id": "eUThFwWxTfh6"
      },
      "source": [
        "\n",
        "trainset, testset = train_test_split(data, test_size = .20)"
      ],
      "execution_count": 16,
      "outputs": []
    },
    {
      "cell_type": "markdown",
      "metadata": {
        "id": "vZNRNLcdbN1F"
      },
      "source": [
        "**Building the recommender engine with Single Value Decompostion (SVD)**\n"
      ]
    },
    {
      "cell_type": "code",
      "metadata": {
        "colab": {
          "base_uri": "https://localhost:8080/"
        },
        "id": "VK1Njyt6bQG1",
        "outputId": "467a724e-20a5-41bc-d28c-86084516a1aa"
      },
      "source": [
        "#Implimenting SVD \n",
        "model = SVD()\n",
        "\n",
        "#fitting the model\n",
        "model.fit(trainset)"
      ],
      "execution_count": 17,
      "outputs": [
        {
          "output_type": "execute_result",
          "data": {
            "text/plain": [
              "<surprise.prediction_algorithms.matrix_factorization.SVD at 0x7fe9196da590>"
            ]
          },
          "metadata": {
            "tags": []
          },
          "execution_count": 17
        }
      ]
    },
    {
      "cell_type": "code",
      "metadata": {
        "colab": {
          "base_uri": "https://localhost:8080/"
        },
        "id": "vu8YyS4BAq1H",
        "outputId": "8aa41c62-6c5c-4985-ca88-81b311abf1b0"
      },
      "source": [
        "#Making predictions and checking for accuracy using RMSE\n",
        "predictions = model.test(testset)\n",
        "\n",
        "accuracy.rmse(predictions)"
      ],
      "execution_count": 29,
      "outputs": [
        {
          "output_type": "stream",
          "text": [
            "RMSE: 1.2190\n"
          ],
          "name": "stdout"
        },
        {
          "output_type": "execute_result",
          "data": {
            "text/plain": [
              "1.218951729461053"
            ]
          },
          "metadata": {
            "tags": []
          },
          "execution_count": 29
        }
      ]
    },
    {
      "cell_type": "code",
      "metadata": {
        "colab": {
          "base_uri": "https://localhost:8080/"
        },
        "id": "VclIvzMNcuwN",
        "outputId": "95920144-ae80-4d47-a30d-84d87eb085e5"
      },
      "source": [
        "#Making predictions and checking for accuracy using MAE\n",
        "predictions = model.test(testset)\n",
        "\n",
        "accuracy.mae(predictions)"
      ],
      "execution_count": 28,
      "outputs": [
        {
          "output_type": "stream",
          "text": [
            "MAE:  0.9318\n"
          ],
          "name": "stdout"
        },
        {
          "output_type": "execute_result",
          "data": {
            "text/plain": [
              "0.9317509628470326"
            ]
          },
          "metadata": {
            "tags": []
          },
          "execution_count": 28
        }
      ]
    },
    {
      "cell_type": "markdown",
      "metadata": {
        "id": "eoKlRygOxIRE"
      },
      "source": [
        "An MAE of 0.9318 implies that the model is 93.18% accurate, which is very good. "
      ]
    },
    {
      "cell_type": "code",
      "metadata": {
        "id": "e90e2ffLoz4Q"
      },
      "source": [
        "#Assign any user_id and item_id to uid and iid respectively to predict the rating the user(uid) would give the item(iid)\n",
        "uid = 'A2ZUXVTW8RXBXW'\n",
        "iid = '0060009810'"
      ],
      "execution_count": 26,
      "outputs": []
    },
    {
      "cell_type": "code",
      "metadata": {
        "id": "FWRs66WRpmSw"
      },
      "source": [
        "pred = model.predict(uid, iid)"
      ],
      "execution_count": 21,
      "outputs": []
    },
    {
      "cell_type": "code",
      "metadata": {
        "colab": {
          "base_uri": "https://localhost:8080/"
        },
        "id": "HYqppNN5p94H",
        "outputId": "a71f5813-6164-4a4e-c6ec-a147353180dc"
      },
      "source": [
        "\n",
        "pred.est"
      ],
      "execution_count": 22,
      "outputs": [
        {
          "output_type": "execute_result",
          "data": {
            "text/plain": [
              "4.483331128040617"
            ]
          },
          "metadata": {
            "tags": []
          },
          "execution_count": 22
        }
      ]
    },
    {
      "cell_type": "markdown",
      "metadata": {
        "id": "Jl6Q0ZLBfZUH"
      },
      "source": [
        "According to the prediction estimate, User A2ZUXVTW8RXBXW would give item 0060009810 a 4.5 star rating "
      ]
    }
  ]
}