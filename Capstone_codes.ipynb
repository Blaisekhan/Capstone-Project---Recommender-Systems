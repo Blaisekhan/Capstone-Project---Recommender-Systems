{
  "nbformat": 4,
  "nbformat_minor": 0,
  "metadata": {
    "colab": {
      "name": "Capstone codes.ipynb",
      "provenance": [],
      "collapsed_sections": [],
      "authorship_tag": "ABX9TyMtaRCjI57vt8aj8Uy7UIYZ",
      "include_colab_link": true
    },
    "kernelspec": {
      "name": "python3",
      "display_name": "Python 3"
    }
  },
  "cells": [
    {
      "cell_type": "markdown",
      "metadata": {
        "id": "view-in-github",
        "colab_type": "text"
      },
      "source": [
        "<a href=\"https://colab.research.google.com/github/Blaisekhan/Capstone-project/blob/main/Capstone_codes.ipynb\" target=\"_parent\"><img src=\"https://colab.research.google.com/assets/colab-badge.svg\" alt=\"Open In Colab\"/></a>"
      ]
    },
    {
      "cell_type": "code",
      "metadata": {
        "id": "iazIWjySGL14"
      },
      "source": [
        "#Importing Libraries\r\n",
        "import numpy as np\r\n",
        "import pandas as pd\r\n",
        "import math\r\n",
        "import json\r\n",
        "import time\r\n",
        "import os\r\n",
        "import matplotlib.pyplot as plt\r\n",
        "import seaborn as sns\r\n",
        "from sklearn.metrics.pairwise import cosine_similarity\r\n",
        "from sklearn.model_selection import train_test_split\r\n",
        "from sklearn.neighbors import NearestNeighbors\r\n",
        "from sklearn.externals import joblib\r\n",
        "import scipy.sparse\r\n",
        "from scipy.sparse import csr_matrix\r\n",
        "from scipy.sparse.linalg import svds\r\n",
        "from IPython.core.interactiveshell import InteractiveShell\r\n",
        "InteractiveShell.ast_node_interactivity = \"all\"\r\n",
        "import warnings; warnings.simplefilter('ignore')\r\n",
        "%matplotlib inline\r\n"
      ],
      "execution_count": 5,
      "outputs": []
    },
    {
      "cell_type": "code",
      "metadata": {
        "colab": {
          "base_uri": "https://localhost:8080/"
        },
        "id": "PRwXPuuJe-v4",
        "outputId": "dd406dc9-65a2-48e2-e486-45640bac4527"
      },
      "source": [
        "#importing the updated dataset Amazon electronics ratings 2018\r\n",
        "from google.colab import drive\r\n",
        "drive.mount('/content/drive')"
      ],
      "execution_count": 6,
      "outputs": [
        {
          "output_type": "stream",
          "text": [
            "Drive already mounted at /content/drive; to attempt to forcibly remount, call drive.mount(\"/content/drive\", force_remount=True).\n"
          ],
          "name": "stdout"
        }
      ]
    },
    {
      "cell_type": "code",
      "metadata": {
        "id": "ylZ-eYf6c3UN"
      },
      "source": [
        "#Load dataset\r\n",
        "ratings_electronics = pd.read_csv('/content/drive/MyDrive/Electronics/Electronics.csv', names=['ProductID', 'UserID','Rating', 'Timestamp'])\r\n"
      ],
      "execution_count": 7,
      "outputs": []
    },
    {
      "cell_type": "markdown",
      "metadata": {
        "id": "-AepY0HQrQZb"
      },
      "source": [
        "## **Exploring the Dataset**"
      ]
    },
    {
      "cell_type": "code",
      "metadata": {
        "colab": {
          "base_uri": "https://localhost:8080/",
          "height": 202
        },
        "id": "t3033ilabYu_",
        "outputId": "77f4833b-5dd4-4587-a427-a949bbfce3a2"
      },
      "source": [
        "#Snippet of dataset\r\n",
        "\r\n",
        "ratings_electronics.head()\r\n"
      ],
      "execution_count": 6,
      "outputs": [
        {
          "output_type": "execute_result",
          "data": {
            "text/html": [
              "<div>\n",
              "<style scoped>\n",
              "    .dataframe tbody tr th:only-of-type {\n",
              "        vertical-align: middle;\n",
              "    }\n",
              "\n",
              "    .dataframe tbody tr th {\n",
              "        vertical-align: top;\n",
              "    }\n",
              "\n",
              "    .dataframe thead th {\n",
              "        text-align: right;\n",
              "    }\n",
              "</style>\n",
              "<table border=\"1\" class=\"dataframe\">\n",
              "  <thead>\n",
              "    <tr style=\"text-align: right;\">\n",
              "      <th></th>\n",
              "      <th>ProductID</th>\n",
              "      <th>UserID</th>\n",
              "      <th>Rating</th>\n",
              "      <th>Timestamp</th>\n",
              "    </tr>\n",
              "  </thead>\n",
              "  <tbody>\n",
              "    <tr>\n",
              "      <th>0</th>\n",
              "      <td>0060009810</td>\n",
              "      <td>A1N070NS9CJQ2I</td>\n",
              "      <td>5.0</td>\n",
              "      <td>1026864000</td>\n",
              "    </tr>\n",
              "    <tr>\n",
              "      <th>1</th>\n",
              "      <td>0060009810</td>\n",
              "      <td>A3P0KRKOBQK1KN</td>\n",
              "      <td>5.0</td>\n",
              "      <td>1025913600</td>\n",
              "    </tr>\n",
              "    <tr>\n",
              "      <th>2</th>\n",
              "      <td>0060009810</td>\n",
              "      <td>A192HO2ICJ75VU</td>\n",
              "      <td>5.0</td>\n",
              "      <td>1025654400</td>\n",
              "    </tr>\n",
              "    <tr>\n",
              "      <th>3</th>\n",
              "      <td>0060009810</td>\n",
              "      <td>A2T278FKFL3BLT</td>\n",
              "      <td>4.0</td>\n",
              "      <td>1025395200</td>\n",
              "    </tr>\n",
              "    <tr>\n",
              "      <th>4</th>\n",
              "      <td>0060009810</td>\n",
              "      <td>A2ZUXVTW8RXBXW</td>\n",
              "      <td>5.0</td>\n",
              "      <td>1025222400</td>\n",
              "    </tr>\n",
              "  </tbody>\n",
              "</table>\n",
              "</div>"
            ],
            "text/plain": [
              "    ProductID          UserID  Rating   Timestamp\n",
              "0  0060009810  A1N070NS9CJQ2I     5.0  1026864000\n",
              "1  0060009810  A3P0KRKOBQK1KN     5.0  1025913600\n",
              "2  0060009810  A192HO2ICJ75VU     5.0  1025654400\n",
              "3  0060009810  A2T278FKFL3BLT     4.0  1025395200\n",
              "4  0060009810  A2ZUXVTW8RXBXW     5.0  1025222400"
            ]
          },
          "metadata": {
            "tags": []
          },
          "execution_count": 6
        }
      ]
    },
    {
      "cell_type": "code",
      "metadata": {
        "colab": {
          "base_uri": "https://localhost:8080/"
        },
        "id": "IzbnOfF6EVmK",
        "outputId": "81f6a792-5a40-4410-a206-8ad6e4a893b4"
      },
      "source": [
        "#Print data shape in order to determine the subset needed for the analysis\r\n",
        "ratings_electronics.shape"
      ],
      "execution_count": 7,
      "outputs": [
        {
          "output_type": "execute_result",
          "data": {
            "text/plain": [
              "(20994353, 4)"
            ]
          },
          "metadata": {
            "tags": []
          },
          "execution_count": 7
        }
      ]
    },
    {
      "cell_type": "code",
      "metadata": {
        "colab": {
          "base_uri": "https://localhost:8080/"
        },
        "id": "ngVoMDHaQEVI",
        "outputId": "98c7ab3f-b6e2-419f-f477-8912b7eb6123"
      },
      "source": [
        "#Data types\r\n",
        "\r\n",
        "ratings_electronics.dtypes"
      ],
      "execution_count": null,
      "outputs": [
        {
          "output_type": "execute_result",
          "data": {
            "text/plain": [
              "ProductID     object\n",
              "UserID        object\n",
              "Rating       float64\n",
              "Timestamp      int64\n",
              "dtype: object"
            ]
          },
          "metadata": {
            "tags": []
          },
          "execution_count": 12
        }
      ]
    },
    {
      "cell_type": "code",
      "metadata": {
        "colab": {
          "base_uri": "https://localhost:8080/"
        },
        "id": "W5VFjOxUE2dc",
        "outputId": "23c6df05-6384-45e3-f66f-6a33cd3c7472"
      },
      "source": [
        "#The dataset has 20,994,353 rows and 4 columns \r\n",
        "#Choosing a subset of the data using iLoc to select rows .iloc[<row_selection>, <column_selection>]\r\n",
        "\r\n",
        "ratings_electronics = ratings_electronics.iloc[:5000000,0:]\r\n",
        "\r\n",
        "ratings_electronics.shape\r\n",
        "\r\n",
        "\r\n",
        "\r\n",
        "\r\n",
        "\r\n",
        "\r\n"
      ],
      "execution_count": 23,
      "outputs": [
        {
          "output_type": "execute_result",
          "data": {
            "text/plain": [
              "(5000000, 4)"
            ]
          },
          "metadata": {
            "tags": []
          },
          "execution_count": 23
        }
      ]
    },
    {
      "cell_type": "code",
      "metadata": {
        "colab": {
          "base_uri": "https://localhost:8080/"
        },
        "id": "K9lIQsGnQbZ3",
        "outputId": "d4dd7cba-4738-419a-d633-2053d0327f8b"
      },
      "source": [
        "#information about the data\r\n",
        "\r\n",
        "ratings_electronics.info()"
      ],
      "execution_count": null,
      "outputs": [
        {
          "output_type": "stream",
          "text": [
            "<class 'pandas.core.frame.DataFrame'>\n",
            "RangeIndex: 2000000 entries, 0 to 1999999\n",
            "Data columns (total 4 columns):\n",
            " #   Column     Dtype  \n",
            "---  ------     -----  \n",
            " 0   ProductID  object \n",
            " 1   UserID     object \n",
            " 2   Rating     float64\n",
            " 3   Timestamp  int64  \n",
            "dtypes: float64(1), int64(1), object(2)\n",
            "memory usage: 61.0+ MB\n"
          ],
          "name": "stdout"
        }
      ]
    },
    {
      "cell_type": "code",
      "metadata": {
        "colab": {
          "base_uri": "https://localhost:8080/"
        },
        "id": "f8UBR_S3QsJb",
        "outputId": "0516b24e-cf9b-40d4-f4ce-7f92f929e40b"
      },
      "source": [
        "#Data summary\r\n",
        "ratings_electronics.describe()['Rating']"
      ],
      "execution_count": null,
      "outputs": [
        {
          "output_type": "execute_result",
          "data": {
            "text/plain": [
              "count    2.000000e+06\n",
              "mean     4.124842e+00\n",
              "std      1.327276e+00\n",
              "min      1.000000e+00\n",
              "25%      4.000000e+00\n",
              "50%      5.000000e+00\n",
              "75%      5.000000e+00\n",
              "max      5.000000e+00\n",
              "Name: Rating, dtype: float64"
            ]
          },
          "metadata": {
            "tags": []
          },
          "execution_count": 15
        }
      ]
    },
    {
      "cell_type": "code",
      "metadata": {
        "id": "KBJpNbujZz5_"
      },
      "source": [
        "#Saving subset to google drive\r\n",
        "\r\n",
        "ratings_electronics.to_csv('/content/drive/MyDrive/Electronics/ratings_electronics.csv')\r\n",
        "\r\n"
      ],
      "execution_count": null,
      "outputs": []
    },
    {
      "cell_type": "code",
      "metadata": {
        "colab": {
          "base_uri": "https://localhost:8080/"
        },
        "id": "kFNxcELYeZWq",
        "outputId": "2ef012df-a1c9-4b0e-ac0e-030bd7617640"
      },
      "source": [
        "#Checking for min and max ratings\r\n",
        "\r\n",
        "print('The minimum rating is', ratings_electronics.Rating.min(),  'and the maximum rating is', \r\n",
        "      ratings_electronics.Rating.max(), 'which implies that the rating for the each product \\nranges from 0 to 5')"
      ],
      "execution_count": null,
      "outputs": [
        {
          "output_type": "stream",
          "text": [
            "The minimum rating is 1.0 and the maximum rating is 5.0 which implies that the rating for the each product \n",
            "ranges from 0 to 5\n"
          ],
          "name": "stdout"
        }
      ]
    },
    {
      "cell_type": "code",
      "metadata": {
        "colab": {
          "base_uri": "https://localhost:8080/"
        },
        "id": "oov6NYvtxBq4",
        "outputId": "911da711-674d-4ee1-a461-bffb1847ca4d"
      },
      "source": [
        "#Checking for missing values \r\n",
        "print(ratings_electronics.isnull().sum())"
      ],
      "execution_count": null,
      "outputs": [
        {
          "output_type": "stream",
          "text": [
            "Unnamed: 0    0\n",
            "ProductID     0\n",
            "UserID        0\n",
            "Rating        0\n",
            "Timestamp     0\n",
            "dtype: int64\n"
          ],
          "name": "stdout"
        }
      ]
    },
    {
      "cell_type": "markdown",
      "metadata": {
        "id": "VhpQi7oEyfx5"
      },
      "source": [
        "There is no missing value in the dataset. "
      ]
    },
    {
      "cell_type": "code",
      "metadata": {
        "colab": {
          "base_uri": "https://localhost:8080/",
          "height": 405
        },
        "id": "qzk6yBscySpC",
        "outputId": "89e3bd99-843b-41e0-aa7a-317ecb00cbc0"
      },
      "source": [
        "#Display the distribution of customer ratings\r\n",
        "with sns.axes_style('dark'):\r\n",
        "  gh = sns.factorplot(\"Rating\", data=ratings_electronics, aspect=2.0, kind='count')\r\n",
        "  gh.set_ylabels(\"Total number of ratings\")\r\n",
        "  plt.title(\"Ratings distribution\")"
      ],
      "execution_count": null,
      "outputs": [
        {
          "output_type": "execute_result",
          "data": {
            "text/plain": [
              "<seaborn.axisgrid.FacetGrid at 0x7fbe2506eb90>"
            ]
          },
          "metadata": {
            "tags": []
          },
          "execution_count": 5
        },
        {
          "output_type": "execute_result",
          "data": {
            "text/plain": [
              "Text(0.5, 1.0, 'Ratings distribution')"
            ]
          },
          "metadata": {
            "tags": []
          },
          "execution_count": 5
        },
        {
          "output_type": "display_data",
          "data": {
            "image/png": "[encoded data removed]",
            "text/plain": [
              "<Figure size 720x360 with 1 Axes>"
            ]
          },
          "metadata": {
            "tags": []
          }
        }
      ]
    },
    {
      "cell_type": "markdown",
      "metadata": {
        "id": "GYhBLMgIH8Tw"
      },
      "source": [
        "From the distribution above, most customers gave a 5 star rating to electronics on amazon's store. "
      ]
    },
    {
      "cell_type": "code",
      "metadata": {
        "colab": {
          "base_uri": "https://localhost:8080/"
        },
        "id": "CftzualPIP5J",
        "outputId": "4993d3cd-7c40-4a09-c127-5ce92c9f32f5"
      },
      "source": [
        "#Getting the total number of customers and products reviewed in the data subset \r\n",
        "print(\"Total number of unique customers and rated products\\n\",\"_\"*60)\r\n",
        "print(\"Unique users: \", len(np.unique(ratings_electronics.UserID)))\r\n",
        "print(\"Total number of rated products: \", len(np.unique(ratings_electronics.ProductID)))\r\n",
        "print(\"Total number of ratings: \", ratings_electronics.shape[0])"
      ],
      "execution_count": 18,
      "outputs": [
        {
          "output_type": "stream",
          "text": [
            "Total number of unique customers and rated products\n",
            " ____________________________________________________________\n",
            "Unique users:  2926618\n",
            "Total number of rated products:  50935\n",
            "Total number of ratings:  5000000\n"
          ],
          "name": "stdout"
        }
      ]
    },
    {
      "cell_type": "markdown",
      "metadata": {
        "id": "uXZKtZ6OYBTA"
      },
      "source": [
        "1,450,854 customers provided 2 million ratings for 24,216 products"
      ]
    },
    {
      "cell_type": "code",
      "metadata": {
        "id": "zj-kdqd-NknZ"
      },
      "source": [
        "#Dropping columns not needed in the analysis \r\n",
        "del ratings_electronics['Timestamp']\r\n"
      ],
      "execution_count": 10,
      "outputs": []
    },
    {
      "cell_type": "code",
      "metadata": {
        "colab": {
          "base_uri": "https://localhost:8080/",
          "height": 202
        },
        "id": "AogFPTXGZIC9",
        "outputId": "ba100cd5-e085-4d58-9f75-e714c9f3bafd"
      },
      "source": [
        "ratings_electronics.head()"
      ],
      "execution_count": 11,
      "outputs": [
        {
          "output_type": "execute_result",
          "data": {
            "text/html": [
              "<div>\n",
              "<style scoped>\n",
              "    .dataframe tbody tr th:only-of-type {\n",
              "        vertical-align: middle;\n",
              "    }\n",
              "\n",
              "    .dataframe tbody tr th {\n",
              "        vertical-align: top;\n",
              "    }\n",
              "\n",
              "    .dataframe thead th {\n",
              "        text-align: right;\n",
              "    }\n",
              "</style>\n",
              "<table border=\"1\" class=\"dataframe\">\n",
              "  <thead>\n",
              "    <tr style=\"text-align: right;\">\n",
              "      <th></th>\n",
              "      <th>ProductID</th>\n",
              "      <th>UserID</th>\n",
              "      <th>Rating</th>\n",
              "    </tr>\n",
              "  </thead>\n",
              "  <tbody>\n",
              "    <tr>\n",
              "      <th>0</th>\n",
              "      <td>0060009810</td>\n",
              "      <td>A1N070NS9CJQ2I</td>\n",
              "      <td>5.0</td>\n",
              "    </tr>\n",
              "    <tr>\n",
              "      <th>1</th>\n",
              "      <td>0060009810</td>\n",
              "      <td>A3P0KRKOBQK1KN</td>\n",
              "      <td>5.0</td>\n",
              "    </tr>\n",
              "    <tr>\n",
              "      <th>2</th>\n",
              "      <td>0060009810</td>\n",
              "      <td>A192HO2ICJ75VU</td>\n",
              "      <td>5.0</td>\n",
              "    </tr>\n",
              "    <tr>\n",
              "      <th>3</th>\n",
              "      <td>0060009810</td>\n",
              "      <td>A2T278FKFL3BLT</td>\n",
              "      <td>4.0</td>\n",
              "    </tr>\n",
              "    <tr>\n",
              "      <th>4</th>\n",
              "      <td>0060009810</td>\n",
              "      <td>A2ZUXVTW8RXBXW</td>\n",
              "      <td>5.0</td>\n",
              "    </tr>\n",
              "  </tbody>\n",
              "</table>\n",
              "</div>"
            ],
            "text/plain": [
              "    ProductID          UserID  Rating\n",
              "0  0060009810  A1N070NS9CJQ2I     5.0\n",
              "1  0060009810  A3P0KRKOBQK1KN     5.0\n",
              "2  0060009810  A192HO2ICJ75VU     5.0\n",
              "3  0060009810  A2T278FKFL3BLT     4.0\n",
              "4  0060009810  A2ZUXVTW8RXBXW     5.0"
            ]
          },
          "metadata": {
            "tags": []
          },
          "execution_count": 11
        }
      ]
    },
    {
      "cell_type": "code",
      "metadata": {
        "colab": {
          "base_uri": "https://localhost:8080/"
        },
        "id": "6DCU8KV3bo-T",
        "outputId": "91aafc10-a256-4a6d-e035-852ca5ad8690"
      },
      "source": [
        "#Determing the number of ratings provided by each user\r\n",
        "\r\n",
        "rates_per_user=ratings_electronics.groupby(by='UserID')['Rating'].count().sort_values(ascending=False)\r\n",
        "rates_per_user.head()"
      ],
      "execution_count": 10,
      "outputs": [
        {
          "output_type": "execute_result",
          "data": {
            "text/plain": [
              "UserID\n",
              "A5JLAU2ARJ0BO     275\n",
              "A6FIAB28IS79      174\n",
              "A231WM2Z2JL0U3    172\n",
              "A3OXHLG6DIBRW8    140\n",
              "A680RUE1FDO8B     121\n",
              "Name: Rating, dtype: int64"
            ]
          },
          "metadata": {
            "tags": []
          },
          "execution_count": 10
        }
      ]
    },
    {
      "cell_type": "markdown",
      "metadata": {
        "id": "goWUEETfdvCi"
      },
      "source": [
        "From the data subset that is going to be used in building the recommendation system, the most ratings provided by one customer is 275."
      ]
    },
    {
      "cell_type": "code",
      "metadata": {
        "id": "Qp2hWbDDd7Wu"
      },
      "source": [
        ""
      ],
      "execution_count": null,
      "outputs": []
    },
    {
      "cell_type": "markdown",
      "metadata": {
        "id": "bbwmTh-MoNM_"
      },
      "source": [
        "## **Popularity-Based Recommendation**\r\n",
        "\r\n",
        "This system utilizes the popularity characteristics of products as popularity of a product greatly influences consumer purchasing decisions and often represents important characteristics of a product.\r\n",
        "\r\n",
        "One major setback with this method is that, it can't be personalized. "
      ]
    },
    {
      "cell_type": "code",
      "metadata": {
        "id": "eRlrM5bAobdf"
      },
      "source": [
        "#Downsizing dataframe to only contain products that received 50 ratings and above\r\n",
        "most_rates = ratings_electronics.groupby(\"ProductID\").filter(lambda x:x[\"Rating\"].count()>=50)\r\n"
      ],
      "execution_count": 24,
      "outputs": []
    },
    {
      "cell_type": "markdown",
      "metadata": {
        "id": "Yj7Bq5xOwP6O"
      },
      "source": [
        "Downsized the dataframe to only contain products that received 50 ratings and above. "
      ]
    },
    {
      "cell_type": "code",
      "metadata": {
        "colab": {
          "base_uri": "https://localhost:8080/",
          "height": 219
        },
        "id": "nBf-316oum20",
        "outputId": "29d74590-5fe6-4ddf-d635-e5d091b745bb"
      },
      "source": [
        "most_rates.head()\r\n",
        "most_rates.shape"
      ],
      "execution_count": 25,
      "outputs": [
        {
          "output_type": "execute_result",
          "data": {
            "text/html": [
              "<div>\n",
              "<style scoped>\n",
              "    .dataframe tbody tr th:only-of-type {\n",
              "        vertical-align: middle;\n",
              "    }\n",
              "\n",
              "    .dataframe tbody tr th {\n",
              "        vertical-align: top;\n",
              "    }\n",
              "\n",
              "    .dataframe thead th {\n",
              "        text-align: right;\n",
              "    }\n",
              "</style>\n",
              "<table border=\"1\" class=\"dataframe\">\n",
              "  <thead>\n",
              "    <tr style=\"text-align: right;\">\n",
              "      <th></th>\n",
              "      <th>ProductID</th>\n",
              "      <th>UserID</th>\n",
              "      <th>Rating</th>\n",
              "      <th>Timestamp</th>\n",
              "    </tr>\n",
              "  </thead>\n",
              "  <tbody>\n",
              "    <tr>\n",
              "      <th>284</th>\n",
              "      <td>0511189877</td>\n",
              "      <td>A3J3BRHTDRFJ2G</td>\n",
              "      <td>2.0</td>\n",
              "      <td>1397433600</td>\n",
              "    </tr>\n",
              "    <tr>\n",
              "      <th>285</th>\n",
              "      <td>0511189877</td>\n",
              "      <td>A1QGNMC6O1VW39</td>\n",
              "      <td>5.0</td>\n",
              "      <td>1397433600</td>\n",
              "    </tr>\n",
              "    <tr>\n",
              "      <th>286</th>\n",
              "      <td>0511189877</td>\n",
              "      <td>A2TY0BTJOTENPG</td>\n",
              "      <td>5.0</td>\n",
              "      <td>1395878400</td>\n",
              "    </tr>\n",
              "    <tr>\n",
              "      <th>287</th>\n",
              "      <td>0511189877</td>\n",
              "      <td>A34ATBPOK6HCHY</td>\n",
              "      <td>5.0</td>\n",
              "      <td>1395532800</td>\n",
              "    </tr>\n",
              "    <tr>\n",
              "      <th>288</th>\n",
              "      <td>0511189877</td>\n",
              "      <td>A89DO69P0XZ27</td>\n",
              "      <td>5.0</td>\n",
              "      <td>1395446400</td>\n",
              "    </tr>\n",
              "  </tbody>\n",
              "</table>\n",
              "</div>"
            ],
            "text/plain": [
              "      ProductID          UserID  Rating   Timestamp\n",
              "284  0511189877  A3J3BRHTDRFJ2G     2.0  1397433600\n",
              "285  0511189877  A1QGNMC6O1VW39     5.0  1397433600\n",
              "286  0511189877  A2TY0BTJOTENPG     5.0  1395878400\n",
              "287  0511189877  A34ATBPOK6HCHY     5.0  1395532800\n",
              "288  0511189877   A89DO69P0XZ27     5.0  1395446400"
            ]
          },
          "metadata": {
            "tags": []
          },
          "execution_count": 25
        },
        {
          "output_type": "execute_result",
          "data": {
            "text/plain": [
              "(4471445, 4)"
            ]
          },
          "metadata": {
            "tags": []
          },
          "execution_count": 25
        }
      ]
    },
    {
      "cell_type": "code",
      "metadata": {
        "colab": {
          "base_uri": "https://localhost:8080/",
          "height": 340
        },
        "id": "pRjcK-s-x4xR",
        "outputId": "cb277d62-f961-4862-9231-934f99011425"
      },
      "source": [
        "#plotting the rating per product\r\n",
        "ratings_per_pdt = most_rates.groupby(\"ProductID\")[\"Rating\"].count().sort_values(ascending=False)\r\n",
        "\r\n",
        "fig = plt.figure(figsize=plt.figaspect(.5))\r\n",
        "ax = plt.gca()\r\n",
        "plt.plot(ratings_per_pdt.values)\r\n",
        "plt.title(\"Rating Per Product\")\r\n",
        "plt.xlabel('Product')\r\n",
        "plt.ylabel('Ratings per product')\r\n",
        "ax.set_xticklabels([])\r\n",
        "\r\n",
        "plt.show()"
      ],
      "execution_count": null,
      "outputs": [
        {
          "output_type": "execute_result",
          "data": {
            "text/plain": [
              "[<matplotlib.lines.Line2D at 0x7fbe10154810>]"
            ]
          },
          "metadata": {
            "tags": []
          },
          "execution_count": 12
        },
        {
          "output_type": "execute_result",
          "data": {
            "text/plain": [
              "Text(0.5, 1.0, 'Rating Per Product')"
            ]
          },
          "metadata": {
            "tags": []
          },
          "execution_count": 12
        },
        {
          "output_type": "execute_result",
          "data": {
            "text/plain": [
              "Text(0.5, 0, 'Product')"
            ]
          },
          "metadata": {
            "tags": []
          },
          "execution_count": 12
        },
        {
          "output_type": "execute_result",
          "data": {
            "text/plain": [
              "Text(0, 0.5, 'Ratings per product')"
            ]
          },
          "metadata": {
            "tags": []
          },
          "execution_count": 12
        },
        {
          "output_type": "execute_result",
          "data": {
            "text/plain": [
              "[]"
            ]
          },
          "metadata": {
            "tags": []
          },
          "execution_count": 12
        },
        {
          "output_type": "display_data",
          "data": {
            "image/png": "[encoded data removed]",
            "text/plain": [
              "<Figure size 576x288 with 1 Axes>"
            ]
          },
          "metadata": {
            "tags": [],
            "needs_background": "light"
          }
        }
      ]
    },
    {
      "cell_type": "code",
      "metadata": {
        "colab": {
          "base_uri": "https://localhost:8080/"
        },
        "id": "P_x1t9fR2PSJ",
        "outputId": "0f2380eb-c865-4e56-c81e-a24a95da5a03"
      },
      "source": [
        "#Average product rating \r\n",
        "\r\n",
        "avg_rate_per_pdt = most_rates.groupby('ProductID')['Rating'].mean()\r\n",
        "avg_rate_per_pdt.head()"
      ],
      "execution_count": 17,
      "outputs": [
        {
          "output_type": "execute_result",
          "data": {
            "text/plain": [
              "ProductID\n",
              "0060786817    3.666667\n",
              "0101635370    2.985294\n",
              "0151004714    3.583333\n",
              "0511189877    4.266667\n",
              "0528881469    3.020833\n",
              "Name: Rating, dtype: float64"
            ]
          },
          "metadata": {
            "tags": []
          },
          "execution_count": 17
        }
      ]
    },
    {
      "cell_type": "code",
      "metadata": {
        "colab": {
          "base_uri": "https://localhost:8080/"
        },
        "id": "eErcRPFj7dm-",
        "outputId": "d3a06602-3d25-4e2e-d914-dc3de0c361db"
      },
      "source": [
        "ratings_per_pdt = most_rates.groupby(\"ProductID\")[\"Rating\"].count()\r\n",
        "ratings_per_pdt.head()\r\n"
      ],
      "execution_count": 15,
      "outputs": [
        {
          "output_type": "execute_result",
          "data": {
            "text/plain": [
              "ProductID\n",
              "0060786817     45\n",
              "0101635370     68\n",
              "0151004714     48\n",
              "0511189877    105\n",
              "0528881469     48\n",
              "Name: Rating, dtype: int64"
            ]
          },
          "metadata": {
            "tags": []
          },
          "execution_count": 15
        }
      ]
    },
    {
      "cell_type": "markdown",
      "metadata": {
        "id": "-nfECxCQtLXV"
      },
      "source": [
        "To determine the final rating of a product, add all the ratings users gave that product to get the average "
      ]
    },
    {
      "cell_type": "code",
      "metadata": {
        "colab": {
          "base_uri": "https://localhost:8080/"
        },
        "id": "wYcrxFAitsRB",
        "outputId": "b46a7270-30c1-46cc-c108-22157675a37f"
      },
      "source": [
        "#Getting the products with the highest Average rating \r\n",
        "\r\n",
        "most_rates.groupby('ProductID')['Rating'].mean().sort_values(ascending = False).head()"
      ],
      "execution_count": null,
      "outputs": [
        {
          "output_type": "execute_result",
          "data": {
            "text/plain": [
              "ProductID\n",
              "B000HARV82    5.000000\n",
              "B00008VSKS    5.000000\n",
              "B00000J0MS    4.997494\n",
              "B000TMFYBO    4.963636\n",
              "B00009XVL7    4.941176\n",
              "Name: Rating, dtype: float64"
            ]
          },
          "metadata": {
            "tags": []
          },
          "execution_count": 14
        }
      ]
    },
    {
      "cell_type": "markdown",
      "metadata": {
        "id": "xN7-lQ4vuXjr"
      },
      "source": [
        "Products B000HARV82 and B00008VSKS got 5 stars from all customers that rated the product. This is a good indicator for the seller to put more of these products on their shelves or website. 5 star rating is a good feedback from customers indicating either their satisfaction or how valuable they found the product or service. "
      ]
    },
    {
      "cell_type": "code",
      "metadata": {
        "colab": {
          "base_uri": "https://localhost:8080/"
        },
        "id": "JGrkq_f7ul3W",
        "outputId": "92f2600e-1b48-4e09-d202-d8b260f951fc"
      },
      "source": [
        "#Total number of ratings received by each product\r\n",
        "\r\n",
        "most_rates.groupby('ProductID')['Rating'].count().sort_values(ascending=False).head()"
      ],
      "execution_count": null,
      "outputs": [
        {
          "output_type": "execute_result",
          "data": {
            "text/plain": [
              "ProductID\n",
              "B000BQ7GW8    13768\n",
              "B000HPV3RW     9406\n",
              "B0006BB9MG     7593\n",
              "B000FNFSPY     6927\n",
              "B000A6PPOK     6398\n",
              "Name: Rating, dtype: int64"
            ]
          },
          "metadata": {
            "tags": []
          },
          "execution_count": 15
        }
      ]
    },
    {
      "cell_type": "markdown",
      "metadata": {
        "id": "aUUrcy-QOKUV"
      },
      "source": [
        "Product B000BQ7GW8 received 13768 ratings which is the most ratings received by a single product."
      ]
    },
    {
      "cell_type": "code",
      "metadata": {
        "colab": {
          "base_uri": "https://localhost:8080/",
          "height": 357
        },
        "id": "425yQRRrNIhZ",
        "outputId": "4cf90182-3cef-42d7-e2ca-b819e8c0c498"
      },
      "source": [
        "#Popular products based on total number of ratings provided by customers \r\n",
        "\r\n",
        "pop_pdts = pd.DataFrame(most_rates.groupby('ProductID')['Rating'].count())\r\n",
        "most_pop = pop_pdts.sort_values('Rating', ascending = False)\r\n",
        "most_pop.head(40).plot(kind='bar')"
      ],
      "execution_count": 18,
      "outputs": [
        {
          "output_type": "execute_result",
          "data": {
            "text/plain": [
              "<matplotlib.axes._subplots.AxesSubplot at 0x7ff42cd053d0>"
            ]
          },
          "metadata": {
            "tags": []
          },
          "execution_count": 18
        },
        {
          "output_type": "display_data",
          "data": {
            "image/png": "[encoded data removed]",
            "text/plain": [
              "<Figure size 432x288 with 1 Axes>"
            ]
          },
          "metadata": {
            "tags": [],
            "needs_background": "light"
          }
        }
      ]
    },
    {
      "cell_type": "markdown",
      "metadata": {
        "id": "N3LJmcXqOE6p"
      },
      "source": [
        "The plot above shows the top 40 popular electronics on Amazon's online store based on the number of rating provided by customers. "
      ]
    },
    {
      "cell_type": "code",
      "metadata": {
        "id": "-8yCWHKvykql"
      },
      "source": [
        "#Creating a new Dataframe that contains the ProductID, \r\n",
        "#Average rating(Rating) and total rating(Ratings_count) received by each product\r\n",
        "\r\n",
        "avg_total_rating = pd.DataFrame(most_rates.groupby('ProductID')['Rating'].mean())"
      ],
      "execution_count": 13,
      "outputs": []
    },
    {
      "cell_type": "code",
      "metadata": {
        "id": "TNleSjgM4bOK"
      },
      "source": [
        "avg_total_rating['Ratings_Count'] = pd.DataFrame(most_rates.groupby('ProductID')['Rating'].count())"
      ],
      "execution_count": 14,
      "outputs": []
    },
    {
      "cell_type": "code",
      "metadata": {
        "colab": {
          "base_uri": "https://localhost:8080/",
          "height": 233
        },
        "id": "-vinmgEP5HYt",
        "outputId": "9c999de3-aafd-465e-d2ef-5871edf10ce2"
      },
      "source": [
        "avg_total_rating.head()"
      ],
      "execution_count": 15,
      "outputs": [
        {
          "output_type": "execute_result",
          "data": {
            "text/html": [
              "<div>\n",
              "<style scoped>\n",
              "    .dataframe tbody tr th:only-of-type {\n",
              "        vertical-align: middle;\n",
              "    }\n",
              "\n",
              "    .dataframe tbody tr th {\n",
              "        vertical-align: top;\n",
              "    }\n",
              "\n",
              "    .dataframe thead th {\n",
              "        text-align: right;\n",
              "    }\n",
              "</style>\n",
              "<table border=\"1\" class=\"dataframe\">\n",
              "  <thead>\n",
              "    <tr style=\"text-align: right;\">\n",
              "      <th></th>\n",
              "      <th>Rating</th>\n",
              "      <th>Ratings_Count</th>\n",
              "    </tr>\n",
              "    <tr>\n",
              "      <th>ProductID</th>\n",
              "      <th></th>\n",
              "      <th></th>\n",
              "    </tr>\n",
              "  </thead>\n",
              "  <tbody>\n",
              "    <tr>\n",
              "      <th>0101635370</th>\n",
              "      <td>2.985294</td>\n",
              "      <td>68</td>\n",
              "    </tr>\n",
              "    <tr>\n",
              "      <th>0511189877</th>\n",
              "      <td>4.266667</td>\n",
              "      <td>105</td>\n",
              "    </tr>\n",
              "    <tr>\n",
              "      <th>0545105668</th>\n",
              "      <td>4.692308</td>\n",
              "      <td>52</td>\n",
              "    </tr>\n",
              "    <tr>\n",
              "      <th>0594033926</th>\n",
              "      <td>4.634146</td>\n",
              "      <td>82</td>\n",
              "    </tr>\n",
              "    <tr>\n",
              "      <th>0594459451</th>\n",
              "      <td>4.540323</td>\n",
              "      <td>124</td>\n",
              "    </tr>\n",
              "  </tbody>\n",
              "</table>\n",
              "</div>"
            ],
            "text/plain": [
              "              Rating  Ratings_Count\n",
              "ProductID                          \n",
              "0101635370  2.985294             68\n",
              "0511189877  4.266667            105\n",
              "0545105668  4.692308             52\n",
              "0594033926  4.634146             82\n",
              "0594459451  4.540323            124"
            ]
          },
          "metadata": {
            "tags": []
          },
          "execution_count": 15
        }
      ]
    },
    {
      "cell_type": "code",
      "metadata": {
        "colab": {
          "base_uri": "https://localhost:8080/"
        },
        "id": "LoclBC0s9in2",
        "outputId": "ce9b3569-4bce-4152-ef88-57778cce037c"
      },
      "source": [
        "avg_total_rating.shape"
      ],
      "execution_count": 16,
      "outputs": [
        {
          "output_type": "execute_result",
          "data": {
            "text/plain": [
              "(15497, 2)"
            ]
          },
          "metadata": {
            "tags": []
          },
          "execution_count": 16
        }
      ]
    },
    {
      "cell_type": "code",
      "metadata": {
        "colab": {
          "base_uri": "https://localhost:8080/",
          "height": 391
        },
        "id": "lqACg-095aYY",
        "outputId": "0d959b98-d1b8-4e78-f947-aa8ed433cb0a"
      },
      "source": [
        "plt.figure(figsize=(8,6))\r\n",
        "avg_total_rating['Rating'].hist(bins=50)"
      ],
      "execution_count": 17,
      "outputs": [
        {
          "output_type": "execute_result",
          "data": {
            "text/plain": [
              "<Figure size 576x432 with 0 Axes>"
            ]
          },
          "metadata": {
            "tags": []
          },
          "execution_count": 17
        },
        {
          "output_type": "execute_result",
          "data": {
            "text/plain": [
              "<matplotlib.axes._subplots.AxesSubplot at 0x7ff42ce102d0>"
            ]
          },
          "metadata": {
            "tags": []
          },
          "execution_count": 17
        },
        {
          "output_type": "display_data",
          "data": {
            "image/png": "[encoded data removed]",
            "text/plain": [
              "<Figure size 576x432 with 1 Axes>"
            ]
          },
          "metadata": {
            "tags": [],
            "needs_background": "light"
          }
        }
      ]
    },
    {
      "cell_type": "markdown",
      "metadata": {
        "id": "3yNhm_Sd91U0"
      },
      "source": [
        "Most of the products which received 45 ratings and above had an average rating of between 4.3 and 4.5"
      ]
    },
    {
      "cell_type": "code",
      "metadata": {
        "colab": {
          "base_uri": "https://localhost:8080/",
          "height": 478
        },
        "id": "yLb67hUn-Mao",
        "outputId": "611d7e8d-f728-4fb2-b8da-b7f698bbbd76"
      },
      "source": [
        "#Ratings Vs Ratings received \r\n",
        "plt.figure(figsize=(8,6))\r\n",
        "p = sns.jointplot(x='Rating', y='Ratings_Received', data= avg_total_rating, alpha=0.4)\r\n",
        "p.fig.suptitle('Ratings VS Ratings_Received')"
      ],
      "execution_count": null,
      "outputs": [
        {
          "output_type": "execute_result",
          "data": {
            "text/plain": [
              "<Figure size 576x432 with 0 Axes>"
            ]
          },
          "metadata": {
            "tags": []
          },
          "execution_count": 55
        },
        {
          "output_type": "execute_result",
          "data": {
            "text/plain": [
              "Text(0.5, 0.98, 'Ratings VS Ratings_Received')"
            ]
          },
          "metadata": {
            "tags": []
          },
          "execution_count": 55
        },
        {
          "output_type": "display_data",
          "data": {
            "text/plain": [
              "<Figure size 576x432 with 0 Axes>"
            ]
          },
          "metadata": {
            "tags": []
          }
        },
        {
          "output_type": "display_data",
          "data": {
            "image/png": "[encoded data removed]",
            "text/plain": [
              "<Figure size 432x432 with 3 Axes>"
            ]
          },
          "metadata": {
            "tags": [],
            "needs_background": "light"
          }
        }
      ]
    },
    {
      "cell_type": "markdown",
      "metadata": {
        "id": "A9BSJDWfCj23"
      },
      "source": [
        "From the figure above, the products with ratings between 4.3 to 4.5 received the most reviews from buyers. The amount of reviews given begins to drop as the rating moves closer to 5 stars. "
      ]
    },
    {
      "cell_type": "code",
      "metadata": {
        "id": "iqt4jTAVj6HV",
        "colab": {
          "base_uri": "https://localhost:8080/"
        },
        "outputId": "8884bf98-43ff-41da-81ba-8736156c5e98"
      },
      "source": [
        "C = avg_total_rating['Rating'].mean()\r\n",
        "print(C)"
      ],
      "execution_count": 23,
      "outputs": [
        {
          "output_type": "stream",
          "text": [
            "4.038220352416257\n"
          ],
          "name": "stdout"
        }
      ]
    },
    {
      "cell_type": "code",
      "metadata": {
        "colab": {
          "base_uri": "https://localhost:8080/"
        },
        "id": "PUhsYdf4GCt3",
        "outputId": "4806b720-0b6a-475c-e835-b9eb8e88cb2e"
      },
      "source": [
        "m = avg_total_rating['Ratings_Count'].quantile(0.25)\r\n",
        "print(m )"
      ],
      "execution_count": 20,
      "outputs": [
        {
          "output_type": "stream",
          "text": [
            "74.0\n"
          ],
          "name": "stdout"
        }
      ]
    },
    {
      "cell_type": "code",
      "metadata": {
        "colab": {
          "base_uri": "https://localhost:8080/"
        },
        "id": "67SMVbeyIyiM",
        "outputId": "8389d953-5a07-4a61-9a8d-b10066f5e10f"
      },
      "source": [
        "pdts = avg_total_rating.copy().loc[avg_total_rating['Ratings_Count']>=m]\r\n",
        "pdts.shape"
      ],
      "execution_count": 22,
      "outputs": [
        {
          "output_type": "execute_result",
          "data": {
            "text/plain": [
              "(11739, 2)"
            ]
          },
          "metadata": {
            "tags": []
          },
          "execution_count": 22
        }
      ]
    },
    {
      "cell_type": "code",
      "metadata": {
        "id": "8-OJrHAOOrK9"
      },
      "source": [
        "def weighted_rating(x, m=m, C=C):\r\n",
        "  v = x['Ratings_Count']\r\n",
        "  r = x['Rating']\r\n",
        "  return (v/(v+m)*r)+(m/(m+v)*C)"
      ],
      "execution_count": 26,
      "outputs": []
    },
    {
      "cell_type": "code",
      "metadata": {
        "id": "cl0-Do3NRaBF"
      },
      "source": [
        "avg_total_rating['score'] = avg_total_rating.apply(weighted_rating, axis=1)\r\n",
        "\r\n"
      ],
      "execution_count": 27,
      "outputs": []
    },
    {
      "cell_type": "code",
      "metadata": {
        "colab": {
          "base_uri": "https://localhost:8080/",
          "height": 233
        },
        "id": "M__Ompg5SNQG",
        "outputId": "68be0c3f-b8d3-433b-ca94-b24658d1d1a9"
      },
      "source": [
        "avg_total_rating = avg_total_rating.sort_values('score', ascending=False)\r\n",
        "\r\n",
        "avg_total_rating.head()"
      ],
      "execution_count": 29,
      "outputs": [
        {
          "output_type": "execute_result",
          "data": {
            "text/html": [
              "<div>\n",
              "<style scoped>\n",
              "    .dataframe tbody tr th:only-of-type {\n",
              "        vertical-align: middle;\n",
              "    }\n",
              "\n",
              "    .dataframe tbody tr th {\n",
              "        vertical-align: top;\n",
              "    }\n",
              "\n",
              "    .dataframe thead th {\n",
              "        text-align: right;\n",
              "    }\n",
              "</style>\n",
              "<table border=\"1\" class=\"dataframe\">\n",
              "  <thead>\n",
              "    <tr style=\"text-align: right;\">\n",
              "      <th></th>\n",
              "      <th>Rating</th>\n",
              "      <th>Ratings_Count</th>\n",
              "      <th>score</th>\n",
              "    </tr>\n",
              "    <tr>\n",
              "      <th>ProductID</th>\n",
              "      <th></th>\n",
              "      <th></th>\n",
              "      <th></th>\n",
              "    </tr>\n",
              "  </thead>\n",
              "  <tbody>\n",
              "    <tr>\n",
              "      <th>B00008VSKS</th>\n",
              "      <td>5.000000</td>\n",
              "      <td>394</td>\n",
              "      <td>4.847924</td>\n",
              "    </tr>\n",
              "    <tr>\n",
              "      <th>B00000J0MS</th>\n",
              "      <td>4.997494</td>\n",
              "      <td>399</td>\n",
              "      <td>4.847417</td>\n",
              "    </tr>\n",
              "    <tr>\n",
              "      <th>B003L1AINY</th>\n",
              "      <td>5.000000</td>\n",
              "      <td>328</td>\n",
              "      <td>4.822956</td>\n",
              "    </tr>\n",
              "    <tr>\n",
              "      <th>B0043WJRRS</th>\n",
              "      <td>4.807019</td>\n",
              "      <td>10685</td>\n",
              "      <td>4.801731</td>\n",
              "    </tr>\n",
              "    <tr>\n",
              "      <th>B004Y1AYAC</th>\n",
              "      <td>4.833522</td>\n",
              "      <td>1766</td>\n",
              "      <td>4.801537</td>\n",
              "    </tr>\n",
              "  </tbody>\n",
              "</table>\n",
              "</div>"
            ],
            "text/plain": [
              "              Rating  Ratings_Count     score\n",
              "ProductID                                    \n",
              "B00008VSKS  5.000000            394  4.847924\n",
              "B00000J0MS  4.997494            399  4.847417\n",
              "B003L1AINY  5.000000            328  4.822956\n",
              "B0043WJRRS  4.807019          10685  4.801731\n",
              "B004Y1AYAC  4.833522           1766  4.801537"
            ]
          },
          "metadata": {
            "tags": []
          },
          "execution_count": 29
        }
      ]
    },
    {
      "cell_type": "markdown",
      "metadata": {
        "id": "BGUqALrrj6zD"
      },
      "source": [
        "# Collaborative Filtering (Item-based approach)\r\n",
        "Collaborative Filtering is the process of filtering or evaluating items using other people's opinions.\r\n",
        "Item-based filtering was developed by Amazon.\r\n",
        "It is more faster and stable than the user-based filtering in system where there are more users than items."
      ]
    },
    {
      "cell_type": "code",
      "metadata": {
        "id": "wVzDhSkGwLPP",
        "colab": {
          "base_uri": "https://localhost:8080/"
        },
        "outputId": "44452c1d-4e44-479e-9b1b-50219ec74258"
      },
      "source": [
        "pip install scikit-surprise"
      ],
      "execution_count": 9,
      "outputs": [
        {
          "output_type": "stream",
          "text": [
            "Collecting scikit-surprise\n",
            "\u001b[?25l  Downloading https://files.pythonhosted.org/packages/97/37/5d334adaf5ddd65da99fc65f6507e0e4599d092ba048f4302fe8775619e8/scikit-surprise-1.1.1.tar.gz (11.8MB)\n",
            "\u001b[K     |████████████████████████████████| 11.8MB 6.3MB/s \n",
            "\u001b[?25hRequirement already satisfied: joblib>=0.11 in /usr/local/lib/python3.7/dist-packages (from scikit-surprise) (1.0.1)\n",
            "Requirement already satisfied: numpy>=1.11.2 in /usr/local/lib/python3.7/dist-packages (from scikit-surprise) (1.19.5)\n",
            "Requirement already satisfied: scipy>=1.0.0 in /usr/local/lib/python3.7/dist-packages (from scikit-surprise) (1.4.1)\n",
            "Requirement already satisfied: six>=1.10.0 in /usr/local/lib/python3.7/dist-packages (from scikit-surprise) (1.15.0)\n",
            "Building wheels for collected packages: scikit-surprise\n",
            "  Building wheel for scikit-surprise (setup.py) ... \u001b[?25l\u001b[?25hdone\n",
            "  Created wheel for scikit-surprise: filename=scikit_surprise-1.1.1-cp37-cp37m-linux_x86_64.whl size=1617576 sha256=6524a2b96a9609b490348e0f687a84d82c2bcc5b77681d32e85c64d3fd340e71\n",
            "  Stored in directory: /root/.cache/pip/wheels/78/9c/3d/41b419c9d2aff5b6e2b4c0fc8d25c538202834058f9ed110d0\n",
            "Successfully built scikit-surprise\n",
            "Installing collected packages: scikit-surprise\n",
            "Successfully installed scikit-surprise-1.1.1\n"
          ],
          "name": "stdout"
        }
      ]
    },
    {
      "cell_type": "code",
      "metadata": {
        "id": "gcjag-GZkJ0f"
      },
      "source": [
        "from surprise import KNNWithMeans\r\n",
        "from surprise import Dataset\r\n",
        "from surprise import accuracy\r\n",
        "from surprise import Reader\r\n",
        "import os\r\n",
        "from surprise.model_selection import train_test_split"
      ],
      "execution_count": null,
      "outputs": []
    },
    {
      "cell_type": "code",
      "metadata": {
        "colab": {
          "base_uri": "https://localhost:8080/",
          "height": 219
        },
        "id": "7e4DYha-JtRg",
        "outputId": "b7093380-ac7e-42d1-91ff-ed693db3757a"
      },
      "source": [
        "most_rates.head()\r\n",
        "most_rates.shape\r\n"
      ],
      "execution_count": null,
      "outputs": [
        {
          "output_type": "execute_result",
          "data": {
            "text/html": [
              "<div>\n",
              "<style scoped>\n",
              "    .dataframe tbody tr th:only-of-type {\n",
              "        vertical-align: middle;\n",
              "    }\n",
              "\n",
              "    .dataframe tbody tr th {\n",
              "        vertical-align: top;\n",
              "    }\n",
              "\n",
              "    .dataframe thead th {\n",
              "        text-align: right;\n",
              "    }\n",
              "</style>\n",
              "<table border=\"1\" class=\"dataframe\">\n",
              "  <thead>\n",
              "    <tr style=\"text-align: right;\">\n",
              "      <th></th>\n",
              "      <th>ProductID</th>\n",
              "      <th>UserID</th>\n",
              "      <th>Rating</th>\n",
              "    </tr>\n",
              "  </thead>\n",
              "  <tbody>\n",
              "    <tr>\n",
              "      <th>7</th>\n",
              "      <td>0060786817</td>\n",
              "      <td>A2UNA438B0FRA8</td>\n",
              "      <td>5.0</td>\n",
              "    </tr>\n",
              "    <tr>\n",
              "      <th>8</th>\n",
              "      <td>0060786817</td>\n",
              "      <td>A2NQQSHSQKKGEX</td>\n",
              "      <td>5.0</td>\n",
              "    </tr>\n",
              "    <tr>\n",
              "      <th>9</th>\n",
              "      <td>0060786817</td>\n",
              "      <td>A5EXND10WD4PM</td>\n",
              "      <td>3.0</td>\n",
              "    </tr>\n",
              "    <tr>\n",
              "      <th>10</th>\n",
              "      <td>0060786817</td>\n",
              "      <td>AVJ37XQN3ID16</td>\n",
              "      <td>5.0</td>\n",
              "    </tr>\n",
              "    <tr>\n",
              "      <th>11</th>\n",
              "      <td>0060786817</td>\n",
              "      <td>A21NVBFIEQWDSG</td>\n",
              "      <td>4.0</td>\n",
              "    </tr>\n",
              "  </tbody>\n",
              "</table>\n",
              "</div>"
            ],
            "text/plain": [
              "     ProductID          UserID  Rating\n",
              "7   0060786817  A2UNA438B0FRA8     5.0\n",
              "8   0060786817  A2NQQSHSQKKGEX     5.0\n",
              "9   0060786817   A5EXND10WD4PM     3.0\n",
              "10  0060786817   AVJ37XQN3ID16     5.0\n",
              "11  0060786817  A21NVBFIEQWDSG     4.0"
            ]
          },
          "metadata": {
            "tags": []
          },
          "execution_count": 16
        },
        {
          "output_type": "execute_result",
          "data": {
            "text/plain": [
              "(1770083, 3)"
            ]
          },
          "metadata": {
            "tags": []
          },
          "execution_count": 16
        }
      ]
    },
    {
      "cell_type": "code",
      "metadata": {
        "id": "zMaWJBfDwmKY"
      },
      "source": [
        "#reading the dataset\r\n",
        "reader = Reader(rating_scale=(1,5))\r\n",
        "data = Dataset.load_from_df(most_rates,reader)\r\n"
      ],
      "execution_count": null,
      "outputs": []
    },
    {
      "cell_type": "code",
      "metadata": {
        "id": "njGxTq1BO6ek"
      },
      "source": [
        "#Splitting the dataset into Trainset/Testset\r\n",
        "\r\n",
        "trainset, testset = train_test_split(data, test_size=0.3, random_state=10)"
      ],
      "execution_count": null,
      "outputs": []
    },
    {
      "cell_type": "code",
      "metadata": {
        "colab": {
          "base_uri": "https://localhost:8080/"
        },
        "id": "oyuLP0adRset",
        "outputId": "66794e07-53c3-4442-ec7e-ec31680213cc"
      },
      "source": [
        "cf_algo = KNNWithMeans(k=5, sim_options={'name':'pearson_baseline', 'user_based': False})\r\n",
        "cf_algo.fit(trainset)"
      ],
      "execution_count": null,
      "outputs": [
        {
          "output_type": "stream",
          "text": [
            "Estimating biases using als...\n",
            "Computing the pearson_baseline similarity matrix...\n"
          ],
          "name": "stdout"
        }
      ]
    },
    {
      "cell_type": "code",
      "metadata": {
        "id": "YyV1KBxIhMO0"
      },
      "source": [
        "#Predict\r\n",
        "pred_test = cf_algo.test(testset)"
      ],
      "execution_count": null,
      "outputs": []
    },
    {
      "cell_type": "code",
      "metadata": {
        "id": "xMPSeZVyhoO-"
      },
      "source": [
        "pred_test"
      ],
      "execution_count": null,
      "outputs": []
    },
    {
      "cell_type": "code",
      "metadata": {
        "id": "XqQOxxLbhsoI"
      },
      "source": [
        "#Accuracy of the model - RMSE\r\n",
        "accuracy.rmse(pred_test, verbose=True)\r\n"
      ],
      "execution_count": null,
      "outputs": []
    },
    {
      "cell_type": "code",
      "metadata": {
        "id": "PaeLgbeih-_0"
      },
      "source": [
        ""
      ],
      "execution_count": null,
      "outputs": []
    },
    {
      "cell_type": "markdown",
      "metadata": {
        "id": "QhzgwHAriBHa"
      },
      "source": [
        "# **Model-Based Collaborative Filtering**\r\n",
        "\r\n",
        "Using machine learning to train models to make predictions \r\n",
        "\r\n"
      ]
    },
    {
      "cell_type": "code",
      "metadata": {
        "id": "sosO0JGqSrsT"
      },
      "source": [
        "pip install scikit-surpris"
      ],
      "execution_count": null,
      "outputs": []
    },
    {
      "cell_type": "code",
      "metadata": {
        "id": "jO2LUhHxR5dC"
      },
      "source": [
        "from surprise import SVD\r\n",
        "from surprise import Dataset\r\n",
        "from surprise import accuracy\r\n",
        "from surprise import Reader\r\n",
        "import os\r\n",
        "from surprise.model_selection import train_test_split\r\n"
      ],
      "execution_count": 32,
      "outputs": []
    },
    {
      "cell_type": "code",
      "metadata": {
        "id": "FTMjHRHjWPSl"
      },
      "source": [
        "#Downsizing dataframe to only contain products that received 50 ratings and above\r\n",
        "most_rates = ratings_electronics.groupby(\"ProductID\").filter(lambda x:x[\"Rating\"].count()>=50)"
      ],
      "execution_count": null,
      "outputs": []
    },
    {
      "cell_type": "code",
      "metadata": {
        "id": "Ru4Bs7-vSsy8"
      },
      "source": [
        "e_rating = most_rates.head(200000)"
      ],
      "execution_count": 26,
      "outputs": []
    },
    {
      "cell_type": "code",
      "metadata": {
        "colab": {
          "base_uri": "https://localhost:8080/"
        },
        "id": "bmWVTsG3TAP-",
        "outputId": "27a98ca4-9f83-44f7-e69b-f5da37a1822d"
      },
      "source": [
        "e_rating.shape"
      ],
      "execution_count": 27,
      "outputs": [
        {
          "output_type": "execute_result",
          "data": {
            "text/plain": [
              "(200000, 4)"
            ]
          },
          "metadata": {
            "tags": []
          },
          "execution_count": 27
        }
      ]
    },
    {
      "cell_type": "code",
      "metadata": {
        "id": "EbO6M-IlTFzg"
      },
      "source": [
        "#Dropping the Timestamp column as it won't be needed in our analysis\r\n",
        "\r\n",
        "del e_rating['Timestamp']\r\n"
      ],
      "execution_count": 28,
      "outputs": []
    },
    {
      "cell_type": "code",
      "metadata": {
        "colab": {
          "base_uri": "https://localhost:8080/",
          "height": 202
        },
        "id": "TC4pJxcfTcVR",
        "outputId": "87a3a30e-5a4d-4ece-f4d4-3d2e9b7b6e4f"
      },
      "source": [
        "e_rating.head()"
      ],
      "execution_count": 30,
      "outputs": [
        {
          "output_type": "execute_result",
          "data": {
            "text/html": [
              "<div>\n",
              "<style scoped>\n",
              "    .dataframe tbody tr th:only-of-type {\n",
              "        vertical-align: middle;\n",
              "    }\n",
              "\n",
              "    .dataframe tbody tr th {\n",
              "        vertical-align: top;\n",
              "    }\n",
              "\n",
              "    .dataframe thead th {\n",
              "        text-align: right;\n",
              "    }\n",
              "</style>\n",
              "<table border=\"1\" class=\"dataframe\">\n",
              "  <thead>\n",
              "    <tr style=\"text-align: right;\">\n",
              "      <th></th>\n",
              "      <th>ProductID</th>\n",
              "      <th>UserID</th>\n",
              "      <th>Rating</th>\n",
              "    </tr>\n",
              "  </thead>\n",
              "  <tbody>\n",
              "    <tr>\n",
              "      <th>284</th>\n",
              "      <td>0511189877</td>\n",
              "      <td>A3J3BRHTDRFJ2G</td>\n",
              "      <td>2.0</td>\n",
              "    </tr>\n",
              "    <tr>\n",
              "      <th>285</th>\n",
              "      <td>0511189877</td>\n",
              "      <td>A1QGNMC6O1VW39</td>\n",
              "      <td>5.0</td>\n",
              "    </tr>\n",
              "    <tr>\n",
              "      <th>286</th>\n",
              "      <td>0511189877</td>\n",
              "      <td>A2TY0BTJOTENPG</td>\n",
              "      <td>5.0</td>\n",
              "    </tr>\n",
              "    <tr>\n",
              "      <th>287</th>\n",
              "      <td>0511189877</td>\n",
              "      <td>A34ATBPOK6HCHY</td>\n",
              "      <td>5.0</td>\n",
              "    </tr>\n",
              "    <tr>\n",
              "      <th>288</th>\n",
              "      <td>0511189877</td>\n",
              "      <td>A89DO69P0XZ27</td>\n",
              "      <td>5.0</td>\n",
              "    </tr>\n",
              "  </tbody>\n",
              "</table>\n",
              "</div>"
            ],
            "text/plain": [
              "      ProductID          UserID  Rating\n",
              "284  0511189877  A3J3BRHTDRFJ2G     2.0\n",
              "285  0511189877  A1QGNMC6O1VW39     5.0\n",
              "286  0511189877  A2TY0BTJOTENPG     5.0\n",
              "287  0511189877  A34ATBPOK6HCHY     5.0\n",
              "288  0511189877   A89DO69P0XZ27     5.0"
            ]
          },
          "metadata": {
            "tags": []
          },
          "execution_count": 30
        }
      ]
    },
    {
      "cell_type": "markdown",
      "metadata": {
        "id": "b-WW5u8CThCU"
      },
      "source": [
        "Splitting the data into Test and train sets\r\n"
      ]
    },
    {
      "cell_type": "code",
      "metadata": {
        "id": "RYAkafGXaDgp"
      },
      "source": [
        "#reading the dataset\r\n",
        "reader = Reader(rating_scale=(1,5))\r\n",
        "data = Dataset.load_from_df(e_rating,reader)"
      ],
      "execution_count": 34,
      "outputs": []
    },
    {
      "cell_type": "code",
      "metadata": {
        "id": "eUThFwWxTfh6"
      },
      "source": [
        "\r\n",
        "trainset, testset = train_test_split(data, test_size = .20)"
      ],
      "execution_count": 35,
      "outputs": []
    },
    {
      "cell_type": "markdown",
      "metadata": {
        "id": "vZNRNLcdbN1F"
      },
      "source": [
        "Building model"
      ]
    },
    {
      "cell_type": "code",
      "metadata": {
        "id": "VK1Njyt6bQG1"
      },
      "source": [
        "#Implimenting SVD \r\n",
        "model = SVD()"
      ],
      "execution_count": null,
      "outputs": []
    }
  ]
}