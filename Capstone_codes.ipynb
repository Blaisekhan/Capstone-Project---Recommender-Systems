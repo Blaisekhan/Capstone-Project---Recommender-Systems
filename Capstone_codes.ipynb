{
  "nbformat": 4,
  "nbformat_minor": 0,
  "metadata": {
    "colab": {
      "name": "Capstone codes.ipynb",
      "provenance": [],
      "collapsed_sections": [],
      "authorship_tag": "ABX9TyNNVDAyJ/apSTDRs/14GX/D",
      "include_colab_link": true
    },
    "kernelspec": {
      "name": "python3",
      "display_name": "Python 3"
    }
  },
  "cells": [
    {
      "cell_type": "markdown",
      "metadata": {
        "id": "view-in-github",
        "colab_type": "text"
      },
      "source": [
        "<a href=\"https://colab.research.google.com/github/Blaisekhan/Capstone-project/blob/main/Capstone_codes.ipynb\" target=\"_parent\"><img src=\"https://colab.research.google.com/assets/colab-badge.svg\" alt=\"Open In Colab\"/></a>"
      ]
    },
    {
      "cell_type": "code",
      "metadata": {
        "colab": {
          "base_uri": "https://localhost:8080/"
        },
        "id": "iazIWjySGL14",
        "outputId": "d5f8dd39-b386-4809-df36-80ad398a248b"
      },
      "source": [
        "#Importing Libraries\r\n",
        "import numpy as np\r\n",
        "import pandas as pd\r\n",
        "import math\r\n",
        "import json\r\n",
        "import time\r\n",
        "import os\r\n",
        "import matplotlib.pyplot as plt\r\n",
        "import seaborn as sns\r\n",
        "from sklearn.metrics.pairwise import cosine_similarity\r\n",
        "from sklearn.model_selection import train_test_split\r\n",
        "from sklearn.neighbors import NearestNeighbors\r\n",
        "from sklearn.externals import joblib\r\n",
        "import scipy.sparse\r\n",
        "from scipy.sparse import csr_matrix\r\n",
        "from scipy.sparse.linalg import svds\r\n",
        "from IPython.core.interactiveshell import InteractiveShell\r\n",
        "InteractiveShell.ast_node_interactivity = \"all\"\r\n",
        "import warnings; warnings.simplefilter('ignore')\r\n",
        "%matplotlib inline\r\n"
      ],
      "execution_count": 1,
      "outputs": [
        {
          "output_type": "stream",
          "text": [
            "/usr/local/lib/python3.7/dist-packages/sklearn/externals/joblib/__init__.py:15: FutureWarning: sklearn.externals.joblib is deprecated in 0.21 and will be removed in 0.23. Please import this functionality directly from joblib, which can be installed with: pip install joblib. If this warning is raised when loading pickled models, you may need to re-serialize those models with scikit-learn 0.21+.\n",
            "  warnings.warn(msg, category=FutureWarning)\n"
          ],
          "name": "stderr"
        }
      ]
    },
    {
      "cell_type": "code",
      "metadata": {
        "colab": {
          "base_uri": "https://localhost:8080/"
        },
        "id": "PRwXPuuJe-v4",
        "outputId": "51e3fe9d-a747-41fc-ede8-2257bf3dd555"
      },
      "source": [
        "#importing the updated dataset Amazon electronics ratings 2018\r\n",
        "from google.colab import drive\r\n",
        "drive.mount('/content/drive')"
      ],
      "execution_count": 2,
      "outputs": [
        {
          "output_type": "stream",
          "text": [
            "Mounted at /content/drive\n"
          ],
          "name": "stdout"
        }
      ]
    },
    {
      "cell_type": "code",
      "metadata": {
        "id": "ylZ-eYf6c3UN"
      },
      "source": [
        "#Load dataset\r\n",
        "ratings_electronics = pd.read_csv('/content/drive/MyDrive/Electronics/Electronics.csv', names=['ProductID', 'UserID','Rating', 'Timestamp'])\r\n"
      ],
      "execution_count": 3,
      "outputs": []
    },
    {
      "cell_type": "markdown",
      "metadata": {
        "id": "-AepY0HQrQZb"
      },
      "source": [
        "## **Exploring the Dataset**"
      ]
    },
    {
      "cell_type": "code",
      "metadata": {
        "colab": {
          "base_uri": "https://localhost:8080/",
          "height": 202
        },
        "id": "t3033ilabYu_",
        "outputId": "d58f63ba-1c03-4349-b906-d2c0fb3fbc59"
      },
      "source": [
        "#Snippet of dataset\r\n",
        "\r\n",
        "ratings_electronics.head()\r\n"
      ],
      "execution_count": 4,
      "outputs": [
        {
          "output_type": "execute_result",
          "data": {
            "text/html": [
              "<div>\n",
              "<style scoped>\n",
              "    .dataframe tbody tr th:only-of-type {\n",
              "        vertical-align: middle;\n",
              "    }\n",
              "\n",
              "    .dataframe tbody tr th {\n",
              "        vertical-align: top;\n",
              "    }\n",
              "\n",
              "    .dataframe thead th {\n",
              "        text-align: right;\n",
              "    }\n",
              "</style>\n",
              "<table border=\"1\" class=\"dataframe\">\n",
              "  <thead>\n",
              "    <tr style=\"text-align: right;\">\n",
              "      <th></th>\n",
              "      <th>ProductID</th>\n",
              "      <th>UserID</th>\n",
              "      <th>Rating</th>\n",
              "      <th>Timestamp</th>\n",
              "    </tr>\n",
              "  </thead>\n",
              "  <tbody>\n",
              "    <tr>\n",
              "      <th>0</th>\n",
              "      <td>0060009810</td>\n",
              "      <td>A1N070NS9CJQ2I</td>\n",
              "      <td>5.0</td>\n",
              "      <td>1026864000</td>\n",
              "    </tr>\n",
              "    <tr>\n",
              "      <th>1</th>\n",
              "      <td>0060009810</td>\n",
              "      <td>A3P0KRKOBQK1KN</td>\n",
              "      <td>5.0</td>\n",
              "      <td>1025913600</td>\n",
              "    </tr>\n",
              "    <tr>\n",
              "      <th>2</th>\n",
              "      <td>0060009810</td>\n",
              "      <td>A192HO2ICJ75VU</td>\n",
              "      <td>5.0</td>\n",
              "      <td>1025654400</td>\n",
              "    </tr>\n",
              "    <tr>\n",
              "      <th>3</th>\n",
              "      <td>0060009810</td>\n",
              "      <td>A2T278FKFL3BLT</td>\n",
              "      <td>4.0</td>\n",
              "      <td>1025395200</td>\n",
              "    </tr>\n",
              "    <tr>\n",
              "      <th>4</th>\n",
              "      <td>0060009810</td>\n",
              "      <td>A2ZUXVTW8RXBXW</td>\n",
              "      <td>5.0</td>\n",
              "      <td>1025222400</td>\n",
              "    </tr>\n",
              "  </tbody>\n",
              "</table>\n",
              "</div>"
            ],
            "text/plain": [
              "    ProductID          UserID  Rating   Timestamp\n",
              "0  0060009810  A1N070NS9CJQ2I     5.0  1026864000\n",
              "1  0060009810  A3P0KRKOBQK1KN     5.0  1025913600\n",
              "2  0060009810  A192HO2ICJ75VU     5.0  1025654400\n",
              "3  0060009810  A2T278FKFL3BLT     4.0  1025395200\n",
              "4  0060009810  A2ZUXVTW8RXBXW     5.0  1025222400"
            ]
          },
          "metadata": {
            "tags": []
          },
          "execution_count": 4
        }
      ]
    },
    {
      "cell_type": "code",
      "metadata": {
        "colab": {
          "base_uri": "https://localhost:8080/"
        },
        "id": "ngVoMDHaQEVI",
        "outputId": "24869f06-65ff-40a3-9359-bc0901074f51"
      },
      "source": [
        "#Data types\r\n",
        "\r\n",
        "ratings_electronics.dtypes"
      ],
      "execution_count": 7,
      "outputs": [
        {
          "output_type": "execute_result",
          "data": {
            "text/plain": [
              "ProductID     object\n",
              "UserID        object\n",
              "Rating       float64\n",
              "Timestamp      int64\n",
              "dtype: object"
            ]
          },
          "metadata": {
            "tags": []
          },
          "execution_count": 7
        }
      ]
    },
    {
      "cell_type": "code",
      "metadata": {
        "colab": {
          "base_uri": "https://localhost:8080/"
        },
        "id": "DQ2pmWZKBXRa",
        "outputId": "5fbb0f05-e7e1-474c-abd3-127a8c7da790"
      },
      "source": [
        "#Print data shape in order to determine the subset needed for the analysis\r\n",
        "ratings_electronics.shape"
      ],
      "execution_count": 8,
      "outputs": [
        {
          "output_type": "execute_result",
          "data": {
            "text/plain": [
              "(20994353, 4)"
            ]
          },
          "metadata": {
            "tags": []
          },
          "execution_count": 8
        }
      ]
    },
    {
      "cell_type": "code",
      "metadata": {
        "colab": {
          "base_uri": "https://localhost:8080/"
        },
        "id": "W5VFjOxUE2dc",
        "outputId": "3d4d7c80-1c9d-433d-903a-2660976f9fbb"
      },
      "source": [
        "#The dataset has 20,994,353 rows and 4 columns \r\n",
        "#Choosing a subset of the data using iLoc to select rows .iloc[<row_selection>, <column_selection>]\r\n",
        "\r\n",
        "ratings_electronics = ratings_electronics.iloc[:5000000,0:]\r\n",
        "\r\n",
        "ratings_electronics.shape\r\n",
        "\r\n",
        "\r\n",
        "\r\n",
        "\r\n",
        "\r\n",
        "\r\n"
      ],
      "execution_count": 9,
      "outputs": [
        {
          "output_type": "execute_result",
          "data": {
            "text/plain": [
              "(5000000, 4)"
            ]
          },
          "metadata": {
            "tags": []
          },
          "execution_count": 9
        }
      ]
    },
    {
      "cell_type": "code",
      "metadata": {
        "colab": {
          "base_uri": "https://localhost:8080/"
        },
        "id": "K9lIQsGnQbZ3",
        "outputId": "c2ae9654-42cc-4821-89c1-5bbe81846b87"
      },
      "source": [
        "#information about the data\r\n",
        "\r\n",
        "ratings_electronics.info()"
      ],
      "execution_count": 10,
      "outputs": [
        {
          "output_type": "stream",
          "text": [
            "<class 'pandas.core.frame.DataFrame'>\n",
            "RangeIndex: 5000000 entries, 0 to 4999999\n",
            "Data columns (total 4 columns):\n",
            " #   Column     Dtype  \n",
            "---  ------     -----  \n",
            " 0   ProductID  object \n",
            " 1   UserID     object \n",
            " 2   Rating     float64\n",
            " 3   Timestamp  int64  \n",
            "dtypes: float64(1), int64(1), object(2)\n",
            "memory usage: 152.6+ MB\n"
          ],
          "name": "stdout"
        }
      ]
    },
    {
      "cell_type": "code",
      "metadata": {
        "colab": {
          "base_uri": "https://localhost:8080/"
        },
        "id": "f8UBR_S3QsJb",
        "outputId": "588504de-e8e4-48f6-a282-defc8c27357f"
      },
      "source": [
        "#Data Statitical summary\r\n",
        "ratings_electronics.describe()['Rating']"
      ],
      "execution_count": 11,
      "outputs": [
        {
          "output_type": "execute_result",
          "data": {
            "text/plain": [
              "count    5.000000e+06\n",
              "mean     4.102528e+00\n",
              "std      1.346475e+00\n",
              "min      1.000000e+00\n",
              "25%      4.000000e+00\n",
              "50%      5.000000e+00\n",
              "75%      5.000000e+00\n",
              "max      5.000000e+00\n",
              "Name: Rating, dtype: float64"
            ]
          },
          "metadata": {
            "tags": []
          },
          "execution_count": 11
        }
      ]
    },
    {
      "cell_type": "code",
      "metadata": {
        "colab": {
          "base_uri": "https://localhost:8080/"
        },
        "id": "kFNxcELYeZWq",
        "outputId": "8440619a-7cc6-4f8d-c19e-b3e744adac21"
      },
      "source": [
        "#Checking for min and max ratings\r\n",
        "\r\n",
        "print('The minimum rating is', ratings_electronics.Rating.min(),  'and the maximum rating is', \r\n",
        "      ratings_electronics.Rating.max(), 'which implies that the rating for the each product \\nranges from 0 to 5')"
      ],
      "execution_count": 12,
      "outputs": [
        {
          "output_type": "stream",
          "text": [
            "The minimum rating is 1.0 and the maximum rating is 5.0 which implies that the rating for the each product \n",
            "ranges from 0 to 5\n"
          ],
          "name": "stdout"
        }
      ]
    },
    {
      "cell_type": "code",
      "metadata": {
        "colab": {
          "base_uri": "https://localhost:8080/"
        },
        "id": "oov6NYvtxBq4",
        "outputId": "e71b446a-1d58-4b75-f388-9810ccd0d90c"
      },
      "source": [
        "#Checking for missing values \r\n",
        "print(ratings_electronics.isnull().sum())"
      ],
      "execution_count": 13,
      "outputs": [
        {
          "output_type": "stream",
          "text": [
            "ProductID    0\n",
            "UserID       0\n",
            "Rating       0\n",
            "Timestamp    0\n",
            "dtype: int64\n"
          ],
          "name": "stdout"
        }
      ]
    },
    {
      "cell_type": "markdown",
      "metadata": {
        "id": "VhpQi7oEyfx5"
      },
      "source": [
        "There is no missing value in the dataset. "
      ]
    },
    {
      "cell_type": "code",
      "metadata": {
        "colab": {
          "base_uri": "https://localhost:8080/",
          "height": 405
        },
        "id": "qzk6yBscySpC",
        "outputId": "e742e096-8b52-4ee7-83d7-f46affedcd7c"
      },
      "source": [
        "#Display the distribution of customer ratings\r\n",
        "with sns.axes_style('dark'):\r\n",
        "  gh = sns.factorplot(\"Rating\", data=ratings_electronics, aspect=2.0, kind='count')\r\n",
        "  gh.set_ylabels(\"Total number of ratings\")\r\n",
        "  plt.title(\"Ratings distribution\")"
      ],
      "execution_count": 14,
      "outputs": [
        {
          "output_type": "execute_result",
          "data": {
            "text/plain": [
              "<seaborn.axisgrid.FacetGrid at 0x7f51aa063390>"
            ]
          },
          "metadata": {
            "tags": []
          },
          "execution_count": 14
        },
        {
          "output_type": "execute_result",
          "data": {
            "text/plain": [
              "Text(0.5, 1.0, 'Ratings distribution')"
            ]
          },
          "metadata": {
            "tags": []
          },
          "execution_count": 14
        },
        {
          "output_type": "display_data",
          "data": {
            "image/png": "[encoded data removed]",
            "text/plain": [
              "<Figure size 720x360 with 1 Axes>"
            ]
          },
          "metadata": {
            "tags": []
          }
        }
      ]
    },
    {
      "cell_type": "markdown",
      "metadata": {
        "id": "GYhBLMgIH8Tw"
      },
      "source": [
        "From the distribution above, most customers gave a 5 star rating to electronics on amazon's store. "
      ]
    },
    {
      "cell_type": "code",
      "metadata": {
        "colab": {
          "base_uri": "https://localhost:8080/",
          "height": 303
        },
        "id": "dcB7hUrQSqSJ",
        "outputId": "300b5dae-9f04-4a02-c957-89707c8c4b46"
      },
      "source": [
        "#plotting the rating per product\r\n",
        "ratings_per_pdt = ratings_electronics.groupby(\"ProductID\")[\"Rating\"].count().sort_values(ascending=False)\r\n",
        "\r\n",
        "fig = plt.figure(figsize=plt.figaspect(.5))\r\n",
        "ax = plt.gca()\r\n",
        "plt.plot(ratings_per_pdt.values)\r\n",
        "plt.title(\"Rating Per Product\")\r\n",
        "plt.xlabel('Product')\r\n",
        "plt.ylabel('Ratings per product')\r\n",
        "ax.set_xticklabels([])\r\n",
        "\r\n",
        "plt.show()"
      ],
      "execution_count": 29,
      "outputs": [
        {
          "output_type": "execute_result",
          "data": {
            "text/plain": [
              "[<matplotlib.lines.Line2D at 0x7f51a187dc50>]"
            ]
          },
          "metadata": {
            "tags": []
          },
          "execution_count": 29
        },
        {
          "output_type": "execute_result",
          "data": {
            "text/plain": [
              "Text(0.5, 1.0, 'Rating Per Product')"
            ]
          },
          "metadata": {
            "tags": []
          },
          "execution_count": 29
        },
        {
          "output_type": "execute_result",
          "data": {
            "text/plain": [
              "Text(0.5, 0, 'Product')"
            ]
          },
          "metadata": {
            "tags": []
          },
          "execution_count": 29
        },
        {
          "output_type": "execute_result",
          "data": {
            "text/plain": [
              "Text(0, 0.5, 'Ratings per product')"
            ]
          },
          "metadata": {
            "tags": []
          },
          "execution_count": 29
        },
        {
          "output_type": "execute_result",
          "data": {
            "text/plain": [
              "[]"
            ]
          },
          "metadata": {
            "tags": []
          },
          "execution_count": 29
        },
        {
          "output_type": "display_data",
          "data": {
            "image/png": "[encoded data removed]",
            "text/plain": [
              "<Figure size 576x288 with 1 Axes>"
            ]
          },
          "metadata": {
            "tags": [],
            "needs_background": "light"
          }
        }
      ]
    },
    {
      "cell_type": "code",
      "metadata": {
        "colab": {
          "base_uri": "https://localhost:8080/"
        },
        "id": "CftzualPIP5J",
        "outputId": "e35d0347-cab9-4891-ed36-da8b68b4dd82"
      },
      "source": [
        "#Getting the total number of customers and products reviewed in the data subset \r\n",
        "print(\"Total number of unique customers and rated products\\n\",\"_\"*60)\r\n",
        "print(\"Unique users: \", len(np.unique(ratings_electronics.UserID)))\r\n",
        "print(\"Total number of rated products: \", len(np.unique(ratings_electronics.ProductID)))\r\n",
        "print(\"Total number of ratings: \", ratings_electronics.shape[0])"
      ],
      "execution_count": 15,
      "outputs": [
        {
          "output_type": "stream",
          "text": [
            "Total number of unique customers and rated products\n",
            " ____________________________________________________________\n",
            "Unique users:  2926618\n",
            "Total number of rated products:  50935\n",
            "Total number of ratings:  5000000\n"
          ],
          "name": "stdout"
        }
      ]
    },
    {
      "cell_type": "markdown",
      "metadata": {
        "id": "uXZKtZ6OYBTA"
      },
      "source": [
        "2,926,618 customers provided 5 million ratings for 50,935 products"
      ]
    },
    {
      "cell_type": "code",
      "metadata": {
        "id": "zj-kdqd-NknZ"
      },
      "source": [
        "#Dropping columns not needed in the analysis \r\n",
        "del ratings_electronics['Timestamp']\r\n"
      ],
      "execution_count": 17,
      "outputs": []
    },
    {
      "cell_type": "markdown",
      "metadata": {
        "id": "3XeJjfgNJomx"
      },
      "source": [
        "Dropped the Timestamp column as it won't be needed in building a model-based collaborative filtering recommendation. Timestamps are useful in building Time-Sensitive collaborative filtering models in recommender systems (L. Sun, E. I. Michael, S. Wang and Y. Li, \"A Time-Sensitive Collaborative Filtering Model in Recommendation Systems,\" 2016 IEEE International Conference on Internet of Things (iThings) and IEEE Green Computing and Communications (GreenCom) and IEEE Cyber, Physical and Social Computing (CPSCom) and IEEE Smart Data (SmartData), Chengdu, China, 2016, pp. 340-344, doi: 10.1109/iThings-GreenCom-CPSCom-SmartData.2016.81.)"
      ]
    },
    {
      "cell_type": "code",
      "metadata": {
        "colab": {
          "base_uri": "https://localhost:8080/",
          "height": 202
        },
        "id": "AogFPTXGZIC9",
        "outputId": "c6b1878c-9df4-4598-b13a-7f75b384f574"
      },
      "source": [
        "ratings_electronics.head()"
      ],
      "execution_count": 22,
      "outputs": [
        {
          "output_type": "execute_result",
          "data": {
            "text/html": [
              "<div>\n",
              "<style scoped>\n",
              "    .dataframe tbody tr th:only-of-type {\n",
              "        vertical-align: middle;\n",
              "    }\n",
              "\n",
              "    .dataframe tbody tr th {\n",
              "        vertical-align: top;\n",
              "    }\n",
              "\n",
              "    .dataframe thead th {\n",
              "        text-align: right;\n",
              "    }\n",
              "</style>\n",
              "<table border=\"1\" class=\"dataframe\">\n",
              "  <thead>\n",
              "    <tr style=\"text-align: right;\">\n",
              "      <th></th>\n",
              "      <th>ProductID</th>\n",
              "      <th>UserID</th>\n",
              "      <th>Rating</th>\n",
              "    </tr>\n",
              "  </thead>\n",
              "  <tbody>\n",
              "    <tr>\n",
              "      <th>0</th>\n",
              "      <td>0060009810</td>\n",
              "      <td>A1N070NS9CJQ2I</td>\n",
              "      <td>5.0</td>\n",
              "    </tr>\n",
              "    <tr>\n",
              "      <th>1</th>\n",
              "      <td>0060009810</td>\n",
              "      <td>A3P0KRKOBQK1KN</td>\n",
              "      <td>5.0</td>\n",
              "    </tr>\n",
              "    <tr>\n",
              "      <th>2</th>\n",
              "      <td>0060009810</td>\n",
              "      <td>A192HO2ICJ75VU</td>\n",
              "      <td>5.0</td>\n",
              "    </tr>\n",
              "    <tr>\n",
              "      <th>3</th>\n",
              "      <td>0060009810</td>\n",
              "      <td>A2T278FKFL3BLT</td>\n",
              "      <td>4.0</td>\n",
              "    </tr>\n",
              "    <tr>\n",
              "      <th>4</th>\n",
              "      <td>0060009810</td>\n",
              "      <td>A2ZUXVTW8RXBXW</td>\n",
              "      <td>5.0</td>\n",
              "    </tr>\n",
              "  </tbody>\n",
              "</table>\n",
              "</div>"
            ],
            "text/plain": [
              "    ProductID          UserID  Rating\n",
              "0  0060009810  A1N070NS9CJQ2I     5.0\n",
              "1  0060009810  A3P0KRKOBQK1KN     5.0\n",
              "2  0060009810  A192HO2ICJ75VU     5.0\n",
              "3  0060009810  A2T278FKFL3BLT     4.0\n",
              "4  0060009810  A2ZUXVTW8RXBXW     5.0"
            ]
          },
          "metadata": {
            "tags": []
          },
          "execution_count": 22
        }
      ]
    },
    {
      "cell_type": "code",
      "metadata": {
        "colab": {
          "base_uri": "https://localhost:8080/"
        },
        "id": "6DCU8KV3bo-T",
        "outputId": "16d84809-642f-48ef-d239-d2230ff8d184"
      },
      "source": [
        "#Determing the number of ratings provided by each user\r\n",
        "\r\n",
        "rates_per_user=ratings_electronics.groupby(by='UserID')['Rating'].count().sort_values(ascending=False)\r\n",
        "rates_per_user.head()"
      ],
      "execution_count": 19,
      "outputs": [
        {
          "output_type": "execute_result",
          "data": {
            "text/plain": [
              "UserID\n",
              "A5JLAU2ARJ0BO     324\n",
              "A6FIAB28IS79      319\n",
              "A3OXHLG6DIBRW8    281\n",
              "A680RUE1FDO8B     248\n",
              "ADLVFFE4VBT8      220\n",
              "Name: Rating, dtype: int64"
            ]
          },
          "metadata": {
            "tags": []
          },
          "execution_count": 19
        }
      ]
    },
    {
      "cell_type": "markdown",
      "metadata": {
        "id": "goWUEETfdvCi"
      },
      "source": [
        "From the data subset that is going to be used in building the recommendation system, the most ratings provided by one customer is 324."
      ]
    },
    {
      "cell_type": "code",
      "metadata": {
        "id": "Qp2hWbDDd7Wu"
      },
      "source": [
        ""
      ],
      "execution_count": null,
      "outputs": []
    },
    {
      "cell_type": "markdown",
      "metadata": {
        "id": "bbwmTh-MoNM_"
      },
      "source": [
        "## **Popularity-Based Recommendation(Simple Recommender)**\r\n",
        "\r\n",
        "This system utilizes the popularity characteristics of products as popularity of a product greatly influences consumer purchasing decisions and often represents important characteristics of a product.\r\n",
        "This system works best for businesses that are focused on marketing goods and services that are in trend. \r\n",
        "\r\n",
        "A commonly known major setback with this method is that, it can't be personalized. "
      ]
    },
    {
      "cell_type": "code",
      "metadata": {
        "id": "eRlrM5bAobdf"
      },
      "source": [
        "#Downsizing dataframe to only contain products that received 50 ratings and above\r\n",
        "most_rates = ratings_electronics.groupby(\"ProductID\").filter(lambda x:x[\"Rating\"].count()>=50)\r\n"
      ],
      "execution_count": 23,
      "outputs": []
    },
    {
      "cell_type": "markdown",
      "metadata": {
        "id": "Yj7Bq5xOwP6O"
      },
      "source": [
        "Downsized the dataframe to only contain products that received 50 ratings and above. "
      ]
    },
    {
      "cell_type": "code",
      "metadata": {
        "colab": {
          "base_uri": "https://localhost:8080/",
          "height": 219
        },
        "id": "nBf-316oum20",
        "outputId": "688abe53-7bd3-4f75-f5e3-df1559ca4036"
      },
      "source": [
        "most_rates.head()\r\n",
        "most_rates.shape"
      ],
      "execution_count": 24,
      "outputs": [
        {
          "output_type": "execute_result",
          "data": {
            "text/html": [
              "<div>\n",
              "<style scoped>\n",
              "    .dataframe tbody tr th:only-of-type {\n",
              "        vertical-align: middle;\n",
              "    }\n",
              "\n",
              "    .dataframe tbody tr th {\n",
              "        vertical-align: top;\n",
              "    }\n",
              "\n",
              "    .dataframe thead th {\n",
              "        text-align: right;\n",
              "    }\n",
              "</style>\n",
              "<table border=\"1\" class=\"dataframe\">\n",
              "  <thead>\n",
              "    <tr style=\"text-align: right;\">\n",
              "      <th></th>\n",
              "      <th>ProductID</th>\n",
              "      <th>UserID</th>\n",
              "      <th>Rating</th>\n",
              "    </tr>\n",
              "  </thead>\n",
              "  <tbody>\n",
              "    <tr>\n",
              "      <th>284</th>\n",
              "      <td>0511189877</td>\n",
              "      <td>A3J3BRHTDRFJ2G</td>\n",
              "      <td>2.0</td>\n",
              "    </tr>\n",
              "    <tr>\n",
              "      <th>285</th>\n",
              "      <td>0511189877</td>\n",
              "      <td>A1QGNMC6O1VW39</td>\n",
              "      <td>5.0</td>\n",
              "    </tr>\n",
              "    <tr>\n",
              "      <th>286</th>\n",
              "      <td>0511189877</td>\n",
              "      <td>A2TY0BTJOTENPG</td>\n",
              "      <td>5.0</td>\n",
              "    </tr>\n",
              "    <tr>\n",
              "      <th>287</th>\n",
              "      <td>0511189877</td>\n",
              "      <td>A34ATBPOK6HCHY</td>\n",
              "      <td>5.0</td>\n",
              "    </tr>\n",
              "    <tr>\n",
              "      <th>288</th>\n",
              "      <td>0511189877</td>\n",
              "      <td>A89DO69P0XZ27</td>\n",
              "      <td>5.0</td>\n",
              "    </tr>\n",
              "  </tbody>\n",
              "</table>\n",
              "</div>"
            ],
            "text/plain": [
              "      ProductID          UserID  Rating\n",
              "284  0511189877  A3J3BRHTDRFJ2G     2.0\n",
              "285  0511189877  A1QGNMC6O1VW39     5.0\n",
              "286  0511189877  A2TY0BTJOTENPG     5.0\n",
              "287  0511189877  A34ATBPOK6HCHY     5.0\n",
              "288  0511189877   A89DO69P0XZ27     5.0"
            ]
          },
          "metadata": {
            "tags": []
          },
          "execution_count": 24
        },
        {
          "output_type": "execute_result",
          "data": {
            "text/plain": [
              "(4471445, 3)"
            ]
          },
          "metadata": {
            "tags": []
          },
          "execution_count": 24
        }
      ]
    },
    {
      "cell_type": "code",
      "metadata": {
        "colab": {
          "base_uri": "https://localhost:8080/"
        },
        "id": "8oTpQtV9SNOs",
        "outputId": "3f245661-da94-427e-94a4-466f005c98cb"
      },
      "source": [
        "#Number of ratings received by each product\r\n",
        "ratings_per_pdt = most_rates.groupby(\"ProductID\")[\"Rating\"].count()\r\n",
        "ratings_per_pdt.head()"
      ],
      "execution_count": 28,
      "outputs": [
        {
          "output_type": "execute_result",
          "data": {
            "text/plain": [
              "ProductID\n",
              "0101635370     68\n",
              "0511189877    105\n",
              "0545105668     52\n",
              "0594033926     82\n",
              "0594459451    124\n",
              "Name: Rating, dtype: int64"
            ]
          },
          "metadata": {
            "tags": []
          },
          "execution_count": 28
        }
      ]
    },
    {
      "cell_type": "code",
      "metadata": {
        "colab": {
          "base_uri": "https://localhost:8080/"
        },
        "id": "P_x1t9fR2PSJ",
        "outputId": "b14ce635-09c5-4e21-d3b4-4afc1461b7f1"
      },
      "source": [
        "#Average product rating \r\n",
        "\r\n",
        "avg_rate_per_pdt = most_rates.groupby('ProductID')['Rating'].mean()\r\n",
        "avg_rate_per_pdt.head()"
      ],
      "execution_count": 26,
      "outputs": [
        {
          "output_type": "execute_result",
          "data": {
            "text/plain": [
              "ProductID\n",
              "0101635370    2.985294\n",
              "0511189877    4.266667\n",
              "0545105668    4.692308\n",
              "0594033926    4.634146\n",
              "0594459451    4.540323\n",
              "Name: Rating, dtype: float64"
            ]
          },
          "metadata": {
            "tags": []
          },
          "execution_count": 26
        }
      ]
    },
    {
      "cell_type": "markdown",
      "metadata": {
        "id": "-nfECxCQtLXV"
      },
      "source": [
        "To determine the final rating of a product, add all the ratings users gave that product and divide by the total ratings received by the product to get the average "
      ]
    },
    {
      "cell_type": "code",
      "metadata": {
        "colab": {
          "base_uri": "https://localhost:8080/"
        },
        "id": "wYcrxFAitsRB",
        "outputId": "b46a7270-30c1-46cc-c108-22157675a37f"
      },
      "source": [
        "#Getting the products with the highest Average rating \r\n",
        "\r\n",
        "most_rates.groupby('ProductID')['Rating'].mean().sort_values(ascending = False).head()"
      ],
      "execution_count": null,
      "outputs": [
        {
          "output_type": "execute_result",
          "data": {
            "text/plain": [
              "ProductID\n",
              "B000HARV82    5.000000\n",
              "B00008VSKS    5.000000\n",
              "B00000J0MS    4.997494\n",
              "B000TMFYBO    4.963636\n",
              "B00009XVL7    4.941176\n",
              "Name: Rating, dtype: float64"
            ]
          },
          "metadata": {
            "tags": []
          },
          "execution_count": 14
        }
      ]
    },
    {
      "cell_type": "markdown",
      "metadata": {
        "id": "xN7-lQ4vuXjr"
      },
      "source": [
        "Products B000HARV82 and B00008VSKS got 5 stars from all customers that rated the product. This is a good indicator for the seller to put more of these products on their shelves or website. 5 star rating is a good feedback from customers indicating either their satisfaction or how valuable they found the product or service. "
      ]
    },
    {
      "cell_type": "code",
      "metadata": {
        "colab": {
          "base_uri": "https://localhost:8080/"
        },
        "id": "JGrkq_f7ul3W",
        "outputId": "3a331769-03e4-44a9-d9e6-988e9637bc96"
      },
      "source": [
        "#Total number of ratings received by each product\r\n",
        "\r\n",
        "most_rates.groupby('ProductID')['Rating'].count().sort_values(ascending=False).head()"
      ],
      "execution_count": 30,
      "outputs": [
        {
          "output_type": "execute_result",
          "data": {
            "text/plain": [
              "ProductID\n",
              "B003L1ZYYW    16046\n",
              "B0019HL8Q8    15389\n",
              "B0019EHU8G    14133\n",
              "B0015DYMVO    13836\n",
              "B000BQ7GW8    13768\n",
              "Name: Rating, dtype: int64"
            ]
          },
          "metadata": {
            "tags": []
          },
          "execution_count": 30
        }
      ]
    },
    {
      "cell_type": "markdown",
      "metadata": {
        "id": "aUUrcy-QOKUV"
      },
      "source": [
        "Product B003L1ZYYW received 16046 ratings which is the most ratings received by a single product."
      ]
    },
    {
      "cell_type": "code",
      "metadata": {
        "id": "-8yCWHKvykql"
      },
      "source": [
        "#Creating a new Dataframe that contains the ProductID, \r\n",
        "#Average rating(Rating) and total rating(Ratings_count) received by each product\r\n",
        "\r\n",
        "avg_total_rating = pd.DataFrame(most_rates.groupby('ProductID')['Rating'].mean())"
      ],
      "execution_count": 13,
      "outputs": []
    },
    {
      "cell_type": "code",
      "metadata": {
        "id": "TNleSjgM4bOK"
      },
      "source": [
        "avg_total_rating['Ratings_Count'] = pd.DataFrame(most_rates.groupby('ProductID')['Rating'].count())"
      ],
      "execution_count": 14,
      "outputs": []
    },
    {
      "cell_type": "code",
      "metadata": {
        "colab": {
          "base_uri": "https://localhost:8080/",
          "height": 233
        },
        "id": "-vinmgEP5HYt",
        "outputId": "9c999de3-aafd-465e-d2ef-5871edf10ce2"
      },
      "source": [
        "avg_total_rating.head()"
      ],
      "execution_count": 15,
      "outputs": [
        {
          "output_type": "execute_result",
          "data": {
            "text/html": [
              "<div>\n",
              "<style scoped>\n",
              "    .dataframe tbody tr th:only-of-type {\n",
              "        vertical-align: middle;\n",
              "    }\n",
              "\n",
              "    .dataframe tbody tr th {\n",
              "        vertical-align: top;\n",
              "    }\n",
              "\n",
              "    .dataframe thead th {\n",
              "        text-align: right;\n",
              "    }\n",
              "</style>\n",
              "<table border=\"1\" class=\"dataframe\">\n",
              "  <thead>\n",
              "    <tr style=\"text-align: right;\">\n",
              "      <th></th>\n",
              "      <th>Rating</th>\n",
              "      <th>Ratings_Count</th>\n",
              "    </tr>\n",
              "    <tr>\n",
              "      <th>ProductID</th>\n",
              "      <th></th>\n",
              "      <th></th>\n",
              "    </tr>\n",
              "  </thead>\n",
              "  <tbody>\n",
              "    <tr>\n",
              "      <th>0101635370</th>\n",
              "      <td>2.985294</td>\n",
              "      <td>68</td>\n",
              "    </tr>\n",
              "    <tr>\n",
              "      <th>0511189877</th>\n",
              "      <td>4.266667</td>\n",
              "      <td>105</td>\n",
              "    </tr>\n",
              "    <tr>\n",
              "      <th>0545105668</th>\n",
              "      <td>4.692308</td>\n",
              "      <td>52</td>\n",
              "    </tr>\n",
              "    <tr>\n",
              "      <th>0594033926</th>\n",
              "      <td>4.634146</td>\n",
              "      <td>82</td>\n",
              "    </tr>\n",
              "    <tr>\n",
              "      <th>0594459451</th>\n",
              "      <td>4.540323</td>\n",
              "      <td>124</td>\n",
              "    </tr>\n",
              "  </tbody>\n",
              "</table>\n",
              "</div>"
            ],
            "text/plain": [
              "              Rating  Ratings_Count\n",
              "ProductID                          \n",
              "0101635370  2.985294             68\n",
              "0511189877  4.266667            105\n",
              "0545105668  4.692308             52\n",
              "0594033926  4.634146             82\n",
              "0594459451  4.540323            124"
            ]
          },
          "metadata": {
            "tags": []
          },
          "execution_count": 15
        }
      ]
    },
    {
      "cell_type": "code",
      "metadata": {
        "colab": {
          "base_uri": "https://localhost:8080/"
        },
        "id": "LoclBC0s9in2",
        "outputId": "ce9b3569-4bce-4152-ef88-57778cce037c"
      },
      "source": [
        "avg_total_rating.shape"
      ],
      "execution_count": 16,
      "outputs": [
        {
          "output_type": "execute_result",
          "data": {
            "text/plain": [
              "(15497, 2)"
            ]
          },
          "metadata": {
            "tags": []
          },
          "execution_count": 16
        }
      ]
    },
    {
      "cell_type": "code",
      "metadata": {
        "colab": {
          "base_uri": "https://localhost:8080/",
          "height": 391
        },
        "id": "lqACg-095aYY",
        "outputId": "0d959b98-d1b8-4e78-f947-aa8ed433cb0a"
      },
      "source": [
        "plt.figure(figsize=(8,6))\r\n",
        "avg_total_rating['Rating'].hist(bins=50)"
      ],
      "execution_count": 17,
      "outputs": [
        {
          "output_type": "execute_result",
          "data": {
            "text/plain": [
              "<Figure size 576x432 with 0 Axes>"
            ]
          },
          "metadata": {
            "tags": []
          },
          "execution_count": 17
        },
        {
          "output_type": "execute_result",
          "data": {
            "text/plain": [
              "<matplotlib.axes._subplots.AxesSubplot at 0x7ff42ce102d0>"
            ]
          },
          "metadata": {
            "tags": []
          },
          "execution_count": 17
        },
        {
          "output_type": "display_data",
          "data": {
            "image/png": "[encoded data removed]",
            "text/plain": [
              "<Figure size 576x432 with 1 Axes>"
            ]
          },
          "metadata": {
            "tags": [],
            "needs_background": "light"
          }
        }
      ]
    },
    {
      "cell_type": "markdown",
      "metadata": {
        "id": "3yNhm_Sd91U0"
      },
      "source": [
        "Most of the products which received 50 ratings and above had an average rating of between 4.3 and 4.5"
      ]
    },
    {
      "cell_type": "code",
      "metadata": {
        "colab": {
          "base_uri": "https://localhost:8080/",
          "height": 478
        },
        "id": "yLb67hUn-Mao",
        "outputId": "611d7e8d-f728-4fb2-b8da-b7f698bbbd76"
      },
      "source": [
        "#Ratings Vs Ratings received \r\n",
        "plt.figure(figsize=(8,6))\r\n",
        "p = sns.jointplot(x='Rating', y='Ratings_Received', data= avg_total_rating, alpha=0.4)\r\n",
        "p.fig.suptitle('Ratings VS Ratings_Received')"
      ],
      "execution_count": null,
      "outputs": [
        {
          "output_type": "execute_result",
          "data": {
            "text/plain": [
              "<Figure size 576x432 with 0 Axes>"
            ]
          },
          "metadata": {
            "tags": []
          },
          "execution_count": 55
        },
        {
          "output_type": "execute_result",
          "data": {
            "text/plain": [
              "Text(0.5, 0.98, 'Ratings VS Ratings_Received')"
            ]
          },
          "metadata": {
            "tags": []
          },
          "execution_count": 55
        },
        {
          "output_type": "display_data",
          "data": {
            "text/plain": [
              "<Figure size 576x432 with 0 Axes>"
            ]
          },
          "metadata": {
            "tags": []
          }
        },
        {
          "output_type": "display_data",
          "data": {
            "image/png": "[encoded data removed]",
            "text/plain": [
              "<Figure size 432x432 with 3 Axes>"
            ]
          },
          "metadata": {
            "tags": [],
            "needs_background": "light"
          }
        }
      ]
    },
    {
      "cell_type": "markdown",
      "metadata": {
        "id": "A9BSJDWfCj23"
      },
      "source": [
        "From the figure above, the products with ratings between 4.3 to 4.5 received the most reviews from buyers. The amount of reviews given begins to drop as the rating moves closer to 5 stars. "
      ]
    },
    {
      "cell_type": "code",
      "metadata": {
        "colab": {
          "base_uri": "https://localhost:8080/",
          "height": 357
        },
        "id": "425yQRRrNIhZ",
        "outputId": "4cf90182-3cef-42d7-e2ca-b819e8c0c498"
      },
      "source": [
        "#Popular products based on total number of ratings provided by customers \r\n",
        "\r\n",
        "pop_pdts = pd.DataFrame(most_rates.groupby('ProductID')['Rating'].count())\r\n",
        "most_pop = pop_pdts.sort_values('Rating', ascending = False)\r\n",
        "most_pop.head(40).plot(kind='bar')"
      ],
      "execution_count": null,
      "outputs": [
        {
          "output_type": "execute_result",
          "data": {
            "text/plain": [
              "<matplotlib.axes._subplots.AxesSubplot at 0x7ff42cd053d0>"
            ]
          },
          "metadata": {
            "tags": []
          },
          "execution_count": 18
        },
        {
          "output_type": "display_data",
          "data": {
            "image/png": "[encoded data removed]",
            "text/plain": [
              "<Figure size 432x288 with 1 Axes>"
            ]
          },
          "metadata": {
            "tags": [],
            "needs_background": "light"
          }
        }
      ]
    },
    {
      "cell_type": "markdown",
      "metadata": {
        "id": "cT3HqdsxWkXW"
      },
      "source": [
        "The plot above shows the top 40 popular electronics on Amazon's online store based on the number of rating provided by customers. "
      ]
    },
    {
      "cell_type": "markdown",
      "metadata": {
        "id": "QhzgwHAriBHa"
      },
      "source": [
        "# **Model-Based Collaborative Filtering**\r\n",
        "\r\n",
        "Using machine learning to train models to make predictions \r\n",
        "\r\n"
      ]
    },
    {
      "cell_type": "code",
      "metadata": {
        "colab": {
          "base_uri": "https://localhost:8080/"
        },
        "id": "sosO0JGqSrsT",
        "outputId": "f8e95e0e-0b26-4ef9-ab50-e93827c382c8"
      },
      "source": [
        "pip install scikit-surprise"
      ],
      "execution_count": 33,
      "outputs": [
        {
          "output_type": "stream",
          "text": [
            "Collecting scikit-surprise\n",
            "\u001b[?25l  Downloading https://files.pythonhosted.org/packages/97/37/5d334adaf5ddd65da99fc65f6507e0e4599d092ba048f4302fe8775619e8/scikit-surprise-1.1.1.tar.gz (11.8MB)\n",
            "\u001b[K     |████████████████████████████████| 11.8MB 6.1MB/s \n",
            "\u001b[?25hRequirement already satisfied: joblib>=0.11 in /usr/local/lib/python3.7/dist-packages (from scikit-surprise) (1.0.1)\n",
            "Requirement already satisfied: numpy>=1.11.2 in /usr/local/lib/python3.7/dist-packages (from scikit-surprise) (1.19.5)\n",
            "Requirement already satisfied: scipy>=1.0.0 in /usr/local/lib/python3.7/dist-packages (from scikit-surprise) (1.4.1)\n",
            "Requirement already satisfied: six>=1.10.0 in /usr/local/lib/python3.7/dist-packages (from scikit-surprise) (1.15.0)\n",
            "Building wheels for collected packages: scikit-surprise\n",
            "  Building wheel for scikit-surprise (setup.py) ... \u001b[?25l\u001b[?25hdone\n",
            "  Created wheel for scikit-surprise: filename=scikit_surprise-1.1.1-cp37-cp37m-linux_x86_64.whl size=1617589 sha256=c90fbc3064783b5baf04b64bfefbf73ae5deb87e4f68c27cb6d95d3a77e6e261\n",
            "  Stored in directory: /root/.cache/pip/wheels/78/9c/3d/41b419c9d2aff5b6e2b4c0fc8d25c538202834058f9ed110d0\n",
            "Successfully built scikit-surprise\n",
            "Installing collected packages: scikit-surprise\n",
            "Successfully installed scikit-surprise-1.1.1\n"
          ],
          "name": "stdout"
        }
      ]
    },
    {
      "cell_type": "code",
      "metadata": {
        "id": "jO2LUhHxR5dC"
      },
      "source": [
        "from surprise import SVD\r\n",
        "from surprise import Dataset\r\n",
        "from surprise import accuracy\r\n",
        "from surprise import Reader\r\n",
        "import os\r\n",
        "from surprise.model_selection import train_test_split\r\n"
      ],
      "execution_count": 34,
      "outputs": []
    },
    {
      "cell_type": "code",
      "metadata": {
        "id": "FTMjHRHjWPSl"
      },
      "source": [
        "#Downsizing dataframe to only contain products that received 50 ratings and above\r\n",
        "most_rates = ratings_electronics.groupby(\"ProductID\").filter(lambda x:x[\"Rating\"].count()>=50)"
      ],
      "execution_count": null,
      "outputs": []
    },
    {
      "cell_type": "code",
      "metadata": {
        "id": "Ru4Bs7-vSsy8"
      },
      "source": [
        "e_rating = ratings_electronics.head(1000000)"
      ],
      "execution_count": 35,
      "outputs": []
    },
    {
      "cell_type": "code",
      "metadata": {
        "colab": {
          "base_uri": "https://localhost:8080/"
        },
        "id": "bmWVTsG3TAP-",
        "outputId": "cb1bad41-bed3-4f8a-fd79-8a91dbf02f83"
      },
      "source": [
        "e_rating.shape"
      ],
      "execution_count": 36,
      "outputs": [
        {
          "output_type": "execute_result",
          "data": {
            "text/plain": [
              "(1000000, 3)"
            ]
          },
          "metadata": {
            "tags": []
          },
          "execution_count": 36
        }
      ]
    },
    {
      "cell_type": "code",
      "metadata": {
        "colab": {
          "base_uri": "https://localhost:8080/",
          "height": 202
        },
        "id": "TC4pJxcfTcVR",
        "outputId": "1f55cd50-34b9-464a-916f-e7517ddd4ec2"
      },
      "source": [
        "e_rating.head()"
      ],
      "execution_count": 91,
      "outputs": [
        {
          "output_type": "execute_result",
          "data": {
            "text/html": [
              "<div>\n",
              "<style scoped>\n",
              "    .dataframe tbody tr th:only-of-type {\n",
              "        vertical-align: middle;\n",
              "    }\n",
              "\n",
              "    .dataframe tbody tr th {\n",
              "        vertical-align: top;\n",
              "    }\n",
              "\n",
              "    .dataframe thead th {\n",
              "        text-align: right;\n",
              "    }\n",
              "</style>\n",
              "<table border=\"1\" class=\"dataframe\">\n",
              "  <thead>\n",
              "    <tr style=\"text-align: right;\">\n",
              "      <th></th>\n",
              "      <th>ProductID</th>\n",
              "      <th>UserID</th>\n",
              "      <th>Rating</th>\n",
              "    </tr>\n",
              "  </thead>\n",
              "  <tbody>\n",
              "    <tr>\n",
              "      <th>0</th>\n",
              "      <td>0060009810</td>\n",
              "      <td>A1N070NS9CJQ2I</td>\n",
              "      <td>5.0</td>\n",
              "    </tr>\n",
              "    <tr>\n",
              "      <th>1</th>\n",
              "      <td>0060009810</td>\n",
              "      <td>A3P0KRKOBQK1KN</td>\n",
              "      <td>5.0</td>\n",
              "    </tr>\n",
              "    <tr>\n",
              "      <th>2</th>\n",
              "      <td>0060009810</td>\n",
              "      <td>A192HO2ICJ75VU</td>\n",
              "      <td>5.0</td>\n",
              "    </tr>\n",
              "    <tr>\n",
              "      <th>3</th>\n",
              "      <td>0060009810</td>\n",
              "      <td>A2T278FKFL3BLT</td>\n",
              "      <td>4.0</td>\n",
              "    </tr>\n",
              "    <tr>\n",
              "      <th>4</th>\n",
              "      <td>0060009810</td>\n",
              "      <td>A2ZUXVTW8RXBXW</td>\n",
              "      <td>5.0</td>\n",
              "    </tr>\n",
              "  </tbody>\n",
              "</table>\n",
              "</div>"
            ],
            "text/plain": [
              "    ProductID          UserID  Rating\n",
              "0  0060009810  A1N070NS9CJQ2I     5.0\n",
              "1  0060009810  A3P0KRKOBQK1KN     5.0\n",
              "2  0060009810  A192HO2ICJ75VU     5.0\n",
              "3  0060009810  A2T278FKFL3BLT     4.0\n",
              "4  0060009810  A2ZUXVTW8RXBXW     5.0"
            ]
          },
          "metadata": {
            "tags": []
          },
          "execution_count": 91
        }
      ]
    },
    {
      "cell_type": "markdown",
      "metadata": {
        "id": "b-WW5u8CThCU"
      },
      "source": [
        "Splitting the data into Test and train sets\r\n"
      ]
    },
    {
      "cell_type": "code",
      "metadata": {
        "id": "RYAkafGXaDgp"
      },
      "source": [
        "#reading the dataset\r\n",
        "reader = Reader(rating_scale=(1,5))\r\n",
        "data = Dataset.load_from_df(e_rating[['UserID','ProductID', 'Rating']],reader)"
      ],
      "execution_count": 39,
      "outputs": []
    },
    {
      "cell_type": "code",
      "metadata": {
        "id": "eUThFwWxTfh6"
      },
      "source": [
        "\r\n",
        "trainset, testset = train_test_split(data, test_size = .20)"
      ],
      "execution_count": 40,
      "outputs": []
    },
    {
      "cell_type": "markdown",
      "metadata": {
        "id": "vZNRNLcdbN1F"
      },
      "source": [
        "**Building the recommender engine with Single Value Decompostion (SVD)**\r\n"
      ]
    },
    {
      "cell_type": "code",
      "metadata": {
        "colab": {
          "base_uri": "https://localhost:8080/"
        },
        "id": "VK1Njyt6bQG1",
        "outputId": "9580b5c3-735c-4e21-c6d7-e861d958881f"
      },
      "source": [
        "#Implimenting SVD \r\n",
        "model = SVD()\r\n",
        "\r\n",
        "#fitting the model\r\n",
        "model.fit(trainset)"
      ],
      "execution_count": 41,
      "outputs": [
        {
          "output_type": "execute_result",
          "data": {
            "text/plain": [
              "<surprise.prediction_algorithms.matrix_factorization.SVD at 0x7f518b1533d0>"
            ]
          },
          "metadata": {
            "tags": []
          },
          "execution_count": 41
        }
      ]
    },
    {
      "cell_type": "code",
      "metadata": {
        "colab": {
          "base_uri": "https://localhost:8080/"
        },
        "id": "VclIvzMNcuwN",
        "outputId": "907736a6-434d-4b22-c921-6c77a740f72f"
      },
      "source": [
        "#Making predictions and checking for accuracy\r\n",
        "predictions = model.test(testset)\r\n",
        "\r\n",
        "accuracy.mae(predictions)"
      ],
      "execution_count": 51,
      "outputs": [
        {
          "output_type": "stream",
          "text": [
            "MAE:  0.9311\n"
          ],
          "name": "stdout"
        },
        {
          "output_type": "execute_result",
          "data": {
            "text/plain": [
              "0.9310827510534155"
            ]
          },
          "metadata": {
            "tags": []
          },
          "execution_count": 51
        }
      ]
    },
    {
      "cell_type": "code",
      "metadata": {
        "id": "e90e2ffLoz4Q"
      },
      "source": [
        "#Assign any user_id and item_id to uid and iid respectively to predict the rating the user(uid) would give the item(iid)\r\n",
        "uid = 'A2ZUXVTW8RXBXW'\r\n",
        "iid = '0060009810'"
      ],
      "execution_count": 52,
      "outputs": []
    },
    {
      "cell_type": "code",
      "metadata": {
        "id": "FWRs66WRpmSw"
      },
      "source": [
        "pred = model.predict(uid, iid)"
      ],
      "execution_count": 53,
      "outputs": []
    },
    {
      "cell_type": "code",
      "metadata": {
        "colab": {
          "base_uri": "https://localhost:8080/"
        },
        "id": "HYqppNN5p94H",
        "outputId": "9bcfdf42-e112-4951-aff3-4c5017b5e661"
      },
      "source": [
        "\r\n",
        "pred.est"
      ],
      "execution_count": 54,
      "outputs": [
        {
          "output_type": "execute_result",
          "data": {
            "text/plain": [
              "4.341957976104355"
            ]
          },
          "metadata": {
            "tags": []
          },
          "execution_count": 54
        }
      ]
    },
    {
      "cell_type": "markdown",
      "metadata": {
        "id": "Jl6Q0ZLBfZUH"
      },
      "source": [
        "According to the prediction estimate, User A2ZUXVTW8RXBXW would give item 0060009810 a 4.3 star rating "
      ]
    },
    {
      "cell_type": "code",
      "metadata": {
        "id": "nFntBI8Ifyql"
      },
      "source": [
        ""
      ],
      "execution_count": null,
      "outputs": []
    }
  ]
}